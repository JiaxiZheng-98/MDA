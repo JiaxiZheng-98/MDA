{
  "nbformat": 4,
  "nbformat_minor": 0,
  "metadata": {
    "colab": {
      "provenance": []
    },
    "kernelspec": {
      "name": "python3",
      "display_name": "Python 3"
    },
    "language_info": {
      "name": "python"
    }
  },
  "cells": [
    {
      "cell_type": "code",
      "source": [
        "import numpy as np\n",
        "import pandas as pd\n",
        "import matplotlib.pyplot as plt\n",
        "import seaborn as sns\n",
        "from sklearn.ensemble import RandomForestClassifier\n",
        "from sklearn import tree\n",
        "from sklearn.tree import DecisionTreeClassifier\n",
        "from sklearn.preprocessing import StandardScaler, LabelEncoder, OneHotEncoder\n",
        "from imblearn import under_sampling, over_sampling\n",
        "from imblearn.under_sampling import RandomUnderSampler\n",
        "from imblearn.over_sampling import SMOTE\n",
        "from imblearn.pipeline import Pipeline\n",
        "from collections import Counter\n",
        "from sklearn.metrics import f1_score\n",
        "from sklearn.model_selection import train_test_split, cross_validate\n",
        "import pytz\n",
        "from datetime import datetime\n",
        "import statsmodels.api as sm"
      ],
      "metadata": {
        "id": "e7BT0z2wgyao"
      },
      "execution_count": null,
      "outputs": []
    },
    {
      "cell_type": "markdown",
      "source": [
        "# **1. Preprocessing:**"
      ],
      "metadata": {
        "id": "6yGEbmliSJ8r"
      }
    },
    {
      "cell_type": "markdown",
      "source": [
        "### **1.1 Meteo data:**"
      ],
      "metadata": {
        "id": "iAwvL0gjymBC"
      }
    },
    {
      "cell_type": "code",
      "source": [
        "# dowloading meteo_data from drive\n",
        "!gdown 1Ohd1RtQfd5VvwQutR73j0UvIDNrG7SPk\n",
        "!gdown 1omuJswIXB2-eo5Cp82s09AkqLOksmvdu\n",
        "!gdown 1lnRxlo9X1efzltjApivBT_Cq4JWoTHQx\n",
        "!gdown 1dMmdBqVrMbuHjlMOguQdv7S6F5_N73Ih\n",
        "!gdown 18-t9HQabz0pSbr6u6Eyilj3tUg0QJwfb"
      ],
      "metadata": {
        "id": "o7n7hiY1kXHu",
        "colab": {
          "base_uri": "https://localhost:8080/"
        },
        "outputId": "ea48f51d-00da-4ef5-c285-357aab85e36a"
      },
      "execution_count": null,
      "outputs": [
        {
          "output_type": "stream",
          "name": "stdout",
          "text": [
            "Downloading...\n",
            "From: https://drive.google.com/uc?id=1Ohd1RtQfd5VvwQutR73j0UvIDNrG7SPk\n",
            "To: /content/LC_2022Q1.csv\n",
            "100% 147M/147M [00:00<00:00, 235MB/s]\n",
            "Downloading...\n",
            "From: https://drive.google.com/uc?id=1omuJswIXB2-eo5Cp82s09AkqLOksmvdu\n",
            "To: /content/LC_2022Q2.csv\n",
            "100% 167M/167M [00:01<00:00, 147MB/s]\n",
            "Downloading...\n",
            "From: https://drive.google.com/uc?id=1lnRxlo9X1efzltjApivBT_Cq4JWoTHQx\n",
            "To: /content/LC_2022Q3.csv\n",
            "100% 174M/174M [00:01<00:00, 128MB/s]\n",
            "Downloading...\n",
            "From: https://drive.google.com/uc?id=1dMmdBqVrMbuHjlMOguQdv7S6F5_N73Ih\n",
            "To: /content/LC_2022Q4.csv\n",
            "100% 160M/160M [00:00<00:00, 228MB/s]\n",
            "Downloading...\n",
            "From: https://drive.google.com/uc?id=18-t9HQabz0pSbr6u6Eyilj3tUg0QJwfb\n",
            "To: /content/Meteo_Stations.csv\n",
            "100% 7.57k/7.57k [00:00<00:00, 25.6MB/s]\n"
          ]
        }
      ]
    },
    {
      "cell_type": "code",
      "source": [
        "# reading meteo_data files\n",
        "meteo1 = pd.read_csv('/content/LC_2022Q1.csv', sep=',')\n",
        "meteo2 = pd.read_csv('/content/LC_2022Q2.csv', sep=',')\n",
        "meteo3 = pd.read_csv('/content/LC_2022Q3.csv', sep=',')\n",
        "meteo4 = pd.read_csv('/content/LC_2022Q4.csv', sep=',')\n",
        "stations = pd.read_csv('/content/Meteo_Stations.csv',sep=',')"
      ],
      "metadata": {
        "id": "e8A2Xlfqoe7K"
      },
      "execution_count": null,
      "outputs": []
    },
    {
      "cell_type": "code",
      "source": [
        "# merge meteo1,2,3 and 4 into one frame\n",
        "dfs = [meteo1, meteo2, meteo3, meteo4]\n",
        "meteo = pd.concat(dfs)"
      ],
      "metadata": {
        "id": "t5mKkGz625yA"
      },
      "execution_count": null,
      "outputs": []
    },
    {
      "cell_type": "markdown",
      "source": [
        "#### **A. Filter out the station in the city center:**\n",
        "The meteo data contains many stations in the district of Leuven. Since our objective is to study noise in the center of Leuven we restrict ourself to the data from the stations in the city center and average them to obtain one weather data set. <br>\n",
        "**Note:** The variables WINDDIR and WINDSPEED need a more 'local' approach. We do not average them over all stations in the city center but we average them over all stations in the close proximity of Naamsestraat."
      ],
      "metadata": {
        "id": "H9xiBjIr26uQ"
      }
    },
    {
      "cell_type": "code",
      "source": [
        "# make a list of all station in city center and around Naamsestraat\n",
        "center_stationsID = list()\n",
        "naamsestraat_stationsID = list()\n",
        "(x0,y0) = (50.87959, 4.70093) # city center\n",
        "(x1,y1) = (50.876356, 4.700403) # midpoint of Filosofia - Grote Markt\n",
        "for i in range(0,len(stations['ID'])):\n",
        "    LAT = stations['LAT'][i]\n",
        "    LON = stations['LON'][i]\n",
        "    if ((LAT-x0)**2 + (LON-y0)**2 <= (0.02)**2):\n",
        "        center_stationsID.append(stations['ID'][i])\n",
        "    if ((LAT-x1)**2 + (LON-y1)**2 <= (0.003939)**2):\n",
        "        naamsestraat_stationsID.append(stations['ID'][i])\n",
        "\n",
        "# we make a new dataset with only the observations from the city stations and Naamsestraat stations\n",
        "meteo_center = meteo.loc[meteo['ID'].isin(center_stationsID)]\n",
        "meteo_center = meteo_center.drop([\"LC_WINDDIR\", \"LC_WINDSPEED\"], axis=1)\n",
        "meteo_naamse = meteo.loc[meteo['ID'].isin(naamsestraat_stationsID), [\"ID\",\"DATEUTC\", \"LC_WINDDIR\", \"LC_WINDSPEED\"]]\n",
        "#reset labelling\n",
        "meteo_center = meteo_center.reset_index(drop=True)\n",
        "meteo_naamse = meteo_naamse.reset_index(drop=True)"
      ],
      "metadata": {
        "id": "ZDPGry-W1L2Q"
      },
      "execution_count": null,
      "outputs": []
    },
    {
      "cell_type": "markdown",
      "source": [
        "#### **B. Merge last 4 columns into 1 TEMP column by averaging:**"
      ],
      "metadata": {
        "id": "yd7kU3Yd6u3-"
      }
    },
    {
      "cell_type": "code",
      "source": [
        "df = meteo_center.iloc[:,-4:]\n",
        "meteo_center['AV_TEMP'] = df.mean(axis=1) "
      ],
      "metadata": {
        "id": "6e3iOrgt6uDA"
      },
      "execution_count": null,
      "outputs": []
    },
    {
      "cell_type": "markdown",
      "source": [
        "#### **C. Merge measurements of all stations together by averaging over all stations:**"
      ],
      "metadata": {
        "id": "pRq8CqUT564e"
      }
    },
    {
      "cell_type": "code",
      "source": [
        "# we select the columns that need to be averaged over the different stations: \n",
        "df1 = meteo_center[['DATEUTC', 'LC_HUMIDITY', 'LC_DWPTEMP', 'LC_RAD', 'LC_RAININ', 'LC_DAILYRAIN', 'LC_RAD60', 'AV_TEMP']]\n",
        "df2 = meteo_naamse[['DATEUTC', 'LC_WINDDIR', 'LC_WINDSPEED']]\n",
        "# groups the data on DATEUTC, this column repeats itself 50 times for center_stations and 8 times for Naamsestraat stations.\n",
        "df1_perDATEUTC = df1.groupby(['DATEUTC'], as_index = False)\n",
        "df2_perDATEUTC = df2.groupby(['DATEUTC'], as_index = False)\n",
        "# Average over stations\n",
        "average_weather = df1_perDATEUTC.mean()\n",
        "average_WIND = df2_perDATEUTC.mean()\n",
        "\n",
        "# Merge all columns back together\n",
        "average_meteo = pd.merge(average_weather,average_WIND, on='DATEUTC')"
      ],
      "metadata": {
        "id": "QzTtHKP97qNE"
      },
      "execution_count": null,
      "outputs": []
    },
    {
      "cell_type": "markdown",
      "source": [
        "#### **D. Set meteo data DATEUTC from UTC+0 to time in leuven (according to seasons!):**"
      ],
      "metadata": {
        "id": "uA6r7h9wIPJk"
      }
    },
    {
      "cell_type": "code",
      "source": [
        "# First we change elements of DATEUTC to a datetime objects\n",
        "average_meteo['DATEUTC'] = pd.to_datetime(average_meteo['DATEUTC'], format = '%Y-%m-%d %H:%M:%S')\n",
        "# Set the original time zone as UTC\n",
        "original_timezone = pytz.timezone('UTC')\n",
        "# Convert the time zone to UTC+1\n",
        "target_timezone = pytz.timezone('Europe/Brussels')\n",
        "# Convert dataset from UTC+0 to UTC+1\n",
        "average_meteo['DATEUTC'] = average_meteo['DATEUTC'].dt.tz_localize(original_timezone).dt.tz_convert(target_timezone)"
      ],
      "metadata": {
        "id": "5m27DW-ZIJar"
      },
      "execution_count": null,
      "outputs": []
    },
    {
      "cell_type": "code",
      "source": [
        "# the final 'cleaned' data set\n",
        "average_meteo.head()"
      ],
      "metadata": {
        "colab": {
          "base_uri": "https://localhost:8080/",
          "height": 206
        },
        "id": "p7xr9X8JSvUe",
        "outputId": "e6f90425-283b-48be-bbff-3b300f1db38e"
      },
      "execution_count": null,
      "outputs": [
        {
          "output_type": "execute_result",
          "data": {
            "text/plain": [
              "                    DATEUTC  LC_HUMIDITY  LC_DWPTEMP    LC_RAD  LC_RAININ  \\\n",
              "0 2022-01-01 01:10:00+01:00    89.916667   11.476667  0.166667        0.0   \n",
              "1 2022-01-01 01:20:00+01:00    89.666667   11.416042  0.166667        0.0   \n",
              "2 2022-01-01 01:30:00+01:00    89.458333   11.409375  0.145833        0.0   \n",
              "3 2022-01-01 01:40:00+01:00    89.229167   11.400000  0.166667        0.0   \n",
              "4 2022-01-01 01:50:00+01:00    89.000000   11.394167  0.166667        0.0   \n",
              "\n",
              "   LC_DAILYRAIN  LC_RAD60    AV_TEMP  LC_WINDDIR  LC_WINDSPEED  \n",
              "0           0.0  0.166667  13.048609      17.500       0.04375  \n",
              "1           0.0  0.166667  13.046635      42.125       0.04000  \n",
              "2           0.0  0.145833  13.067383      -0.875       0.06125  \n",
              "3           0.0  0.166667  13.099382       6.375       0.04500  \n",
              "4           0.0  0.166667  13.123046     -10.125       0.02500  "
            ],
            "text/html": [
              "\n",
              "  <div id=\"df-4254d756-2a6e-487b-877e-7c2fe3647b6c\">\n",
              "    <div class=\"colab-df-container\">\n",
              "      <div>\n",
              "<style scoped>\n",
              "    .dataframe tbody tr th:only-of-type {\n",
              "        vertical-align: middle;\n",
              "    }\n",
              "\n",
              "    .dataframe tbody tr th {\n",
              "        vertical-align: top;\n",
              "    }\n",
              "\n",
              "    .dataframe thead th {\n",
              "        text-align: right;\n",
              "    }\n",
              "</style>\n",
              "<table border=\"1\" class=\"dataframe\">\n",
              "  <thead>\n",
              "    <tr style=\"text-align: right;\">\n",
              "      <th></th>\n",
              "      <th>DATEUTC</th>\n",
              "      <th>LC_HUMIDITY</th>\n",
              "      <th>LC_DWPTEMP</th>\n",
              "      <th>LC_RAD</th>\n",
              "      <th>LC_RAININ</th>\n",
              "      <th>LC_DAILYRAIN</th>\n",
              "      <th>LC_RAD60</th>\n",
              "      <th>AV_TEMP</th>\n",
              "      <th>LC_WINDDIR</th>\n",
              "      <th>LC_WINDSPEED</th>\n",
              "    </tr>\n",
              "  </thead>\n",
              "  <tbody>\n",
              "    <tr>\n",
              "      <th>0</th>\n",
              "      <td>2022-01-01 01:10:00+01:00</td>\n",
              "      <td>89.916667</td>\n",
              "      <td>11.476667</td>\n",
              "      <td>0.166667</td>\n",
              "      <td>0.0</td>\n",
              "      <td>0.0</td>\n",
              "      <td>0.166667</td>\n",
              "      <td>13.048609</td>\n",
              "      <td>17.500</td>\n",
              "      <td>0.04375</td>\n",
              "    </tr>\n",
              "    <tr>\n",
              "      <th>1</th>\n",
              "      <td>2022-01-01 01:20:00+01:00</td>\n",
              "      <td>89.666667</td>\n",
              "      <td>11.416042</td>\n",
              "      <td>0.166667</td>\n",
              "      <td>0.0</td>\n",
              "      <td>0.0</td>\n",
              "      <td>0.166667</td>\n",
              "      <td>13.046635</td>\n",
              "      <td>42.125</td>\n",
              "      <td>0.04000</td>\n",
              "    </tr>\n",
              "    <tr>\n",
              "      <th>2</th>\n",
              "      <td>2022-01-01 01:30:00+01:00</td>\n",
              "      <td>89.458333</td>\n",
              "      <td>11.409375</td>\n",
              "      <td>0.145833</td>\n",
              "      <td>0.0</td>\n",
              "      <td>0.0</td>\n",
              "      <td>0.145833</td>\n",
              "      <td>13.067383</td>\n",
              "      <td>-0.875</td>\n",
              "      <td>0.06125</td>\n",
              "    </tr>\n",
              "    <tr>\n",
              "      <th>3</th>\n",
              "      <td>2022-01-01 01:40:00+01:00</td>\n",
              "      <td>89.229167</td>\n",
              "      <td>11.400000</td>\n",
              "      <td>0.166667</td>\n",
              "      <td>0.0</td>\n",
              "      <td>0.0</td>\n",
              "      <td>0.166667</td>\n",
              "      <td>13.099382</td>\n",
              "      <td>6.375</td>\n",
              "      <td>0.04500</td>\n",
              "    </tr>\n",
              "    <tr>\n",
              "      <th>4</th>\n",
              "      <td>2022-01-01 01:50:00+01:00</td>\n",
              "      <td>89.000000</td>\n",
              "      <td>11.394167</td>\n",
              "      <td>0.166667</td>\n",
              "      <td>0.0</td>\n",
              "      <td>0.0</td>\n",
              "      <td>0.166667</td>\n",
              "      <td>13.123046</td>\n",
              "      <td>-10.125</td>\n",
              "      <td>0.02500</td>\n",
              "    </tr>\n",
              "  </tbody>\n",
              "</table>\n",
              "</div>\n",
              "      <button class=\"colab-df-convert\" onclick=\"convertToInteractive('df-4254d756-2a6e-487b-877e-7c2fe3647b6c')\"\n",
              "              title=\"Convert this dataframe to an interactive table.\"\n",
              "              style=\"display:none;\">\n",
              "        \n",
              "  <svg xmlns=\"http://www.w3.org/2000/svg\" height=\"24px\"viewBox=\"0 0 24 24\"\n",
              "       width=\"24px\">\n",
              "    <path d=\"M0 0h24v24H0V0z\" fill=\"none\"/>\n",
              "    <path d=\"M18.56 5.44l.94 2.06.94-2.06 2.06-.94-2.06-.94-.94-2.06-.94 2.06-2.06.94zm-11 1L8.5 8.5l.94-2.06 2.06-.94-2.06-.94L8.5 2.5l-.94 2.06-2.06.94zm10 10l.94 2.06.94-2.06 2.06-.94-2.06-.94-.94-2.06-.94 2.06-2.06.94z\"/><path d=\"M17.41 7.96l-1.37-1.37c-.4-.4-.92-.59-1.43-.59-.52 0-1.04.2-1.43.59L10.3 9.45l-7.72 7.72c-.78.78-.78 2.05 0 2.83L4 21.41c.39.39.9.59 1.41.59.51 0 1.02-.2 1.41-.59l7.78-7.78 2.81-2.81c.8-.78.8-2.07 0-2.86zM5.41 20L4 18.59l7.72-7.72 1.47 1.35L5.41 20z\"/>\n",
              "  </svg>\n",
              "      </button>\n",
              "      \n",
              "  <style>\n",
              "    .colab-df-container {\n",
              "      display:flex;\n",
              "      flex-wrap:wrap;\n",
              "      gap: 12px;\n",
              "    }\n",
              "\n",
              "    .colab-df-convert {\n",
              "      background-color: #E8F0FE;\n",
              "      border: none;\n",
              "      border-radius: 50%;\n",
              "      cursor: pointer;\n",
              "      display: none;\n",
              "      fill: #1967D2;\n",
              "      height: 32px;\n",
              "      padding: 0 0 0 0;\n",
              "      width: 32px;\n",
              "    }\n",
              "\n",
              "    .colab-df-convert:hover {\n",
              "      background-color: #E2EBFA;\n",
              "      box-shadow: 0px 1px 2px rgba(60, 64, 67, 0.3), 0px 1px 3px 1px rgba(60, 64, 67, 0.15);\n",
              "      fill: #174EA6;\n",
              "    }\n",
              "\n",
              "    [theme=dark] .colab-df-convert {\n",
              "      background-color: #3B4455;\n",
              "      fill: #D2E3FC;\n",
              "    }\n",
              "\n",
              "    [theme=dark] .colab-df-convert:hover {\n",
              "      background-color: #434B5C;\n",
              "      box-shadow: 0px 1px 3px 1px rgba(0, 0, 0, 0.15);\n",
              "      filter: drop-shadow(0px 1px 2px rgba(0, 0, 0, 0.3));\n",
              "      fill: #FFFFFF;\n",
              "    }\n",
              "  </style>\n",
              "\n",
              "      <script>\n",
              "        const buttonEl =\n",
              "          document.querySelector('#df-4254d756-2a6e-487b-877e-7c2fe3647b6c button.colab-df-convert');\n",
              "        buttonEl.style.display =\n",
              "          google.colab.kernel.accessAllowed ? 'block' : 'none';\n",
              "\n",
              "        async function convertToInteractive(key) {\n",
              "          const element = document.querySelector('#df-4254d756-2a6e-487b-877e-7c2fe3647b6c');\n",
              "          const dataTable =\n",
              "            await google.colab.kernel.invokeFunction('convertToInteractive',\n",
              "                                                     [key], {});\n",
              "          if (!dataTable) return;\n",
              "\n",
              "          const docLinkHtml = 'Like what you see? Visit the ' +\n",
              "            '<a target=\"_blank\" href=https://colab.research.google.com/notebooks/data_table.ipynb>data table notebook</a>'\n",
              "            + ' to learn more about interactive tables.';\n",
              "          element.innerHTML = '';\n",
              "          dataTable['output_type'] = 'display_data';\n",
              "          await google.colab.output.renderOutput(dataTable, element);\n",
              "          const docLink = document.createElement('div');\n",
              "          docLink.innerHTML = docLinkHtml;\n",
              "          element.appendChild(docLink);\n",
              "        }\n",
              "      </script>\n",
              "    </div>\n",
              "  </div>\n",
              "  "
            ]
          },
          "metadata": {},
          "execution_count": 10
        }
      ]
    },
    {
      "cell_type": "markdown",
      "source": [
        "### **1.2 Export41 data:**"
      ],
      "metadata": {
        "id": "wNa30upa2csr"
      }
    },
    {
      "cell_type": "code",
      "source": [
        "# downloading export41 data from drive\n",
        "!gdown https://drive.google.com/drive/folders/15prWrulNe0HMDbF-27YSUPmpU-FIcS-N -O /content/ --folder\n",
        "!gdown https://drive.google.com/drive/folders/1k88urhr6Rhfeavtn5nbfShlpCVu3lGDh -O /content/ --folder\n",
        "!gdown https://drive.google.com/drive/folders/15prWrulNe0HMDbF-27YSUPmpU-FIcS-N -O /content/ --folder\n",
        "!gdown https://drive.google.com/drive/folders/1k88urhr6Rhfeavtn5nbfShlpCVu3lGDh -O /content/ --folder"
      ],
      "metadata": {
        "id": "gO6_kQ9svCu6",
        "colab": {
          "base_uri": "https://localhost:8080/"
        },
        "outputId": "38fa9c07-3666-426e-fe6c-e33f4de1fbc0"
      },
      "execution_count": null,
      "outputs": [
        {
          "output_type": "stream",
          "name": "stdout",
          "text": [
            "Retrieving folder list\n",
            "Processing file 1Xyrm56s3GdCRQ5iekA46O-fVKaaHgIZE csv_results_40_255439_mp-01-naamsestraat-35-maxim.csv\n",
            "Processing file 1sRot8QgirKzTAdKPWP7qbvDEQ4sByAI- csv_results_40_255440_mp-02-naamsestraat-57-xior.csv\n",
            "Processing file 14uZmVvoXu7dDuODCoydxf10sGwk21wBY csv_results_40_255441_mp-03-naamsestraat-62-taste.csv\n",
            "Processing file 1XqOb1M8JI7-LDT3qrAHe4EOHfP7HNYts csv_results_40_255442_mp-05-calvariekapel-ku-leuven.csv\n",
            "Processing file 1TT2fK8wnXh5OkmgpG9t5M8ODmYuOvv0s csv_results_40_255443_mp-06-parkstraat-2-la-filosovia.csv\n",
            "Processing file 1K8FYGfLJ-_iqp8oWXf-3pAEmjgDbRALT csv_results_40_255444_mp-07-naamsestraat-81.csv\n",
            "Processing file 1_m7kRCrZ8xSWFFhN7J9FeD2_N1nzMvBV csv_results_40_255445_mp-08-kiosk-stadspark.csv\n",
            "Processing file 1V7FkWcPD5UqUU8bXvYPQXp5tQv1hRGS_ csv_results_40_280324_mp08bis---vrijthof.csv\n",
            "Processing file 1fc-q7TR7l1GoY3EbeSlYtx_ivc5QigCv csv_results_40_303910_mp-04-his-hears.csv\n",
            "Retrieving folder list completed\n",
            "Building directory structure\n",
            "Building directory structure completed\n",
            "Downloading...\n",
            "From: https://drive.google.com/uc?id=1Xyrm56s3GdCRQ5iekA46O-fVKaaHgIZE\n",
            "To: /content/export_40/csv_results_40_255439_mp-01-naamsestraat-35-maxim.csv\n",
            "100% 1.23M/1.23M [00:00<00:00, 156MB/s]\n",
            "Downloading...\n",
            "From: https://drive.google.com/uc?id=1sRot8QgirKzTAdKPWP7qbvDEQ4sByAI-\n",
            "To: /content/export_40/csv_results_40_255440_mp-02-naamsestraat-57-xior.csv\n",
            "100% 1.20M/1.20M [00:00<00:00, 150MB/s]\n",
            "Downloading...\n",
            "From: https://drive.google.com/uc?id=14uZmVvoXu7dDuODCoydxf10sGwk21wBY\n",
            "To: /content/export_40/csv_results_40_255441_mp-03-naamsestraat-62-taste.csv\n",
            "100% 1.49M/1.49M [00:00<00:00, 131MB/s]\n",
            "Downloading...\n",
            "From: https://drive.google.com/uc?id=1XqOb1M8JI7-LDT3qrAHe4EOHfP7HNYts\n",
            "To: /content/export_40/csv_results_40_255442_mp-05-calvariekapel-ku-leuven.csv\n",
            "100% 1.46M/1.46M [00:00<00:00, 133MB/s]\n",
            "Downloading...\n",
            "From: https://drive.google.com/uc?id=1TT2fK8wnXh5OkmgpG9t5M8ODmYuOvv0s\n",
            "To: /content/export_40/csv_results_40_255443_mp-06-parkstraat-2-la-filosovia.csv\n",
            "100% 1.47M/1.47M [00:00<00:00, 202MB/s]\n",
            "Downloading...\n",
            "From: https://drive.google.com/uc?id=1K8FYGfLJ-_iqp8oWXf-3pAEmjgDbRALT\n",
            "To: /content/export_40/csv_results_40_255444_mp-07-naamsestraat-81.csv\n",
            "100% 1.17M/1.17M [00:00<00:00, 150MB/s]\n",
            "Downloading...\n",
            "From: https://drive.google.com/uc?id=1_m7kRCrZ8xSWFFhN7J9FeD2_N1nzMvBV\n",
            "To: /content/export_40/csv_results_40_255445_mp-08-kiosk-stadspark.csv\n",
            "100% 464/464 [00:00<00:00, 3.03MB/s]\n",
            "Downloading...\n",
            "From: https://drive.google.com/uc?id=1V7FkWcPD5UqUU8bXvYPQXp5tQv1hRGS_\n",
            "To: /content/export_40/csv_results_40_280324_mp08bis---vrijthof.csv\n",
            "100% 1.12M/1.12M [00:00<00:00, 178MB/s]\n",
            "Downloading...\n",
            "From: https://drive.google.com/uc?id=1fc-q7TR7l1GoY3EbeSlYtx_ivc5QigCv\n",
            "To: /content/export_40/csv_results_40_303910_mp-04-his-hears.csv\n",
            "100% 329k/329k [00:00<00:00, 118MB/s]\n",
            "Download completed\n",
            "Retrieving folder list\n",
            "Processing file 1tD8HqtkOr7xiuFEJKvOSrDAjb-esapyO csv_results_41_255439_mp-01-naamsestraat-35-maxim.csv\n",
            "Processing file 1zX9TGJKlVJ2g28jICrSLsMFNIjKG8cFu csv_results_41_255440_mp-02-naamsestraat-57-xior.csv\n",
            "Processing file 1aVBdOAPC3AvhA17tviNg2uKRE3Zuni4O csv_results_41_255441_mp-03-naamsestraat-62-taste.csv\n",
            "Processing file 1StsD3hUJKDgKw1-kZsyTN7z5e9Uwl5GJ csv_results_41_255442_mp-05-calvariekapel-ku-leuven.csv\n",
            "Processing file 1fBz6KYwKzD6TtFdLoZIl_C4XFToIOKUD csv_results_41_255443_mp-06-parkstraat-2-la-filosovia.csv\n",
            "Processing file 1lT_2vRLlBuc3NUgXrG_ZJ25XwzyZv--F csv_results_41_255444_mp-07-naamsestraat-81.csv\n",
            "Processing file 1sDjyy3X21FtKwskV1q7iiYLNjTYeCoUt csv_results_41_255445_mp-08-kiosk-stadspark.csv\n",
            "Processing file 1NJ0TZEWiZb1y0cuNrnvibMrV4oUmt2Qy csv_results_41_280324_mp08bis---vrijthof.csv\n",
            "Processing file 1d3cjhi_nC9fbcsh7Gq2GJyX5VFAt6Pnb csv_results_41_303910_mp-04-his-hears.csv\n",
            "Retrieving folder list completed\n",
            "Building directory structure\n",
            "Building directory structure completed\n",
            "Downloading...\n",
            "From: https://drive.google.com/uc?id=1tD8HqtkOr7xiuFEJKvOSrDAjb-esapyO\n",
            "To: /content/export_41/csv_results_41_255439_mp-01-naamsestraat-35-maxim.csv\n",
            "100% 2.46M/2.46M [00:00<00:00, 263MB/s]\n",
            "Downloading...\n",
            "From: https://drive.google.com/uc?id=1zX9TGJKlVJ2g28jICrSLsMFNIjKG8cFu\n",
            "To: /content/export_41/csv_results_41_255440_mp-02-naamsestraat-57-xior.csv\n",
            "100% 389k/389k [00:00<00:00, 130MB/s]\n",
            "Downloading...\n",
            "From: https://drive.google.com/uc?id=1aVBdOAPC3AvhA17tviNg2uKRE3Zuni4O\n",
            "To: /content/export_41/csv_results_41_255441_mp-03-naamsestraat-62-taste.csv\n",
            "100% 650k/650k [00:00<00:00, 166MB/s]\n",
            "Downloading...\n",
            "From: https://drive.google.com/uc?id=1StsD3hUJKDgKw1-kZsyTN7z5e9Uwl5GJ\n",
            "To: /content/export_41/csv_results_41_255442_mp-05-calvariekapel-ku-leuven.csv\n",
            "100% 1.05M/1.05M [00:00<00:00, 98.4MB/s]\n",
            "Downloading...\n",
            "From: https://drive.google.com/uc?id=1fBz6KYwKzD6TtFdLoZIl_C4XFToIOKUD\n",
            "To: /content/export_41/csv_results_41_255443_mp-06-parkstraat-2-la-filosovia.csv\n",
            "100% 952k/952k [00:00<00:00, 97.3MB/s]\n",
            "Downloading...\n",
            "From: https://drive.google.com/uc?id=1lT_2vRLlBuc3NUgXrG_ZJ25XwzyZv--F\n",
            "To: /content/export_41/csv_results_41_255444_mp-07-naamsestraat-81.csv\n",
            "100% 1.99M/1.99M [00:00<00:00, 177MB/s]\n",
            "Downloading...\n",
            "From: https://drive.google.com/uc?id=1sDjyy3X21FtKwskV1q7iiYLNjTYeCoUt\n",
            "To: /content/export_41/csv_results_41_255445_mp-08-kiosk-stadspark.csv\n",
            "100% 275/275 [00:00<00:00, 1.33MB/s]\n",
            "Downloading...\n",
            "From: https://drive.google.com/uc?id=1NJ0TZEWiZb1y0cuNrnvibMrV4oUmt2Qy\n",
            "To: /content/export_41/csv_results_41_280324_mp08bis---vrijthof.csv\n",
            "100% 31.1k/31.1k [00:00<00:00, 36.8MB/s]\n",
            "Downloading...\n",
            "From: https://drive.google.com/uc?id=1d3cjhi_nC9fbcsh7Gq2GJyX5VFAt6Pnb\n",
            "To: /content/export_41/csv_results_41_303910_mp-04-his-hears.csv\n",
            "100% 275/275 [00:00<00:00, 757kB/s]\n",
            "Download completed\n",
            "Retrieving folder list\n",
            "Processing file 1Xyrm56s3GdCRQ5iekA46O-fVKaaHgIZE csv_results_40_255439_mp-01-naamsestraat-35-maxim.csv\n",
            "Processing file 1sRot8QgirKzTAdKPWP7qbvDEQ4sByAI- csv_results_40_255440_mp-02-naamsestraat-57-xior.csv\n",
            "Processing file 14uZmVvoXu7dDuODCoydxf10sGwk21wBY csv_results_40_255441_mp-03-naamsestraat-62-taste.csv\n",
            "Processing file 1XqOb1M8JI7-LDT3qrAHe4EOHfP7HNYts csv_results_40_255442_mp-05-calvariekapel-ku-leuven.csv\n",
            "Processing file 1TT2fK8wnXh5OkmgpG9t5M8ODmYuOvv0s csv_results_40_255443_mp-06-parkstraat-2-la-filosovia.csv\n",
            "Processing file 1K8FYGfLJ-_iqp8oWXf-3pAEmjgDbRALT csv_results_40_255444_mp-07-naamsestraat-81.csv\n",
            "Processing file 1_m7kRCrZ8xSWFFhN7J9FeD2_N1nzMvBV csv_results_40_255445_mp-08-kiosk-stadspark.csv\n",
            "Processing file 1V7FkWcPD5UqUU8bXvYPQXp5tQv1hRGS_ csv_results_40_280324_mp08bis---vrijthof.csv\n",
            "Processing file 1fc-q7TR7l1GoY3EbeSlYtx_ivc5QigCv csv_results_40_303910_mp-04-his-hears.csv\n",
            "Retrieving folder list completed\n",
            "Building directory structure\n",
            "Building directory structure completed\n",
            "Downloading...\n",
            "From: https://drive.google.com/uc?id=1Xyrm56s3GdCRQ5iekA46O-fVKaaHgIZE\n",
            "To: /content/export_40/csv_results_40_255439_mp-01-naamsestraat-35-maxim.csv\n",
            "100% 1.23M/1.23M [00:00<00:00, 130MB/s]\n",
            "Downloading...\n",
            "From: https://drive.google.com/uc?id=1sRot8QgirKzTAdKPWP7qbvDEQ4sByAI-\n",
            "To: /content/export_40/csv_results_40_255440_mp-02-naamsestraat-57-xior.csv\n",
            "100% 1.20M/1.20M [00:00<00:00, 32.8MB/s]\n",
            "Downloading...\n",
            "From: https://drive.google.com/uc?id=14uZmVvoXu7dDuODCoydxf10sGwk21wBY\n",
            "To: /content/export_40/csv_results_40_255441_mp-03-naamsestraat-62-taste.csv\n",
            "100% 1.49M/1.49M [00:00<00:00, 159MB/s]\n",
            "Downloading...\n",
            "From: https://drive.google.com/uc?id=1XqOb1M8JI7-LDT3qrAHe4EOHfP7HNYts\n",
            "To: /content/export_40/csv_results_40_255442_mp-05-calvariekapel-ku-leuven.csv\n",
            "100% 1.46M/1.46M [00:00<00:00, 79.1MB/s]\n",
            "Downloading...\n",
            "From: https://drive.google.com/uc?id=1TT2fK8wnXh5OkmgpG9t5M8ODmYuOvv0s\n",
            "To: /content/export_40/csv_results_40_255443_mp-06-parkstraat-2-la-filosovia.csv\n",
            "100% 1.47M/1.47M [00:00<00:00, 33.9MB/s]\n",
            "Downloading...\n",
            "From: https://drive.google.com/uc?id=1K8FYGfLJ-_iqp8oWXf-3pAEmjgDbRALT\n",
            "To: /content/export_40/csv_results_40_255444_mp-07-naamsestraat-81.csv\n",
            "100% 1.17M/1.17M [00:00<00:00, 84.9MB/s]\n",
            "Downloading...\n",
            "From: https://drive.google.com/uc?id=1_m7kRCrZ8xSWFFhN7J9FeD2_N1nzMvBV\n",
            "To: /content/export_40/csv_results_40_255445_mp-08-kiosk-stadspark.csv\n",
            "100% 464/464 [00:00<00:00, 2.17MB/s]\n",
            "Downloading...\n",
            "From: https://drive.google.com/uc?id=1V7FkWcPD5UqUU8bXvYPQXp5tQv1hRGS_\n",
            "To: /content/export_40/csv_results_40_280324_mp08bis---vrijthof.csv\n",
            "100% 1.12M/1.12M [00:00<00:00, 190MB/s]\n",
            "Downloading...\n",
            "From: https://drive.google.com/uc?id=1fc-q7TR7l1GoY3EbeSlYtx_ivc5QigCv\n",
            "To: /content/export_40/csv_results_40_303910_mp-04-his-hears.csv\n",
            "100% 329k/329k [00:00<00:00, 153MB/s]\n",
            "Download completed\n",
            "Retrieving folder list\n",
            "Processing file 1tD8HqtkOr7xiuFEJKvOSrDAjb-esapyO csv_results_41_255439_mp-01-naamsestraat-35-maxim.csv\n",
            "Processing file 1zX9TGJKlVJ2g28jICrSLsMFNIjKG8cFu csv_results_41_255440_mp-02-naamsestraat-57-xior.csv\n",
            "Processing file 1aVBdOAPC3AvhA17tviNg2uKRE3Zuni4O csv_results_41_255441_mp-03-naamsestraat-62-taste.csv\n",
            "Processing file 1StsD3hUJKDgKw1-kZsyTN7z5e9Uwl5GJ csv_results_41_255442_mp-05-calvariekapel-ku-leuven.csv\n",
            "Processing file 1fBz6KYwKzD6TtFdLoZIl_C4XFToIOKUD csv_results_41_255443_mp-06-parkstraat-2-la-filosovia.csv\n",
            "Processing file 1lT_2vRLlBuc3NUgXrG_ZJ25XwzyZv--F csv_results_41_255444_mp-07-naamsestraat-81.csv\n",
            "Processing file 1sDjyy3X21FtKwskV1q7iiYLNjTYeCoUt csv_results_41_255445_mp-08-kiosk-stadspark.csv\n",
            "Processing file 1NJ0TZEWiZb1y0cuNrnvibMrV4oUmt2Qy csv_results_41_280324_mp08bis---vrijthof.csv\n",
            "Processing file 1d3cjhi_nC9fbcsh7Gq2GJyX5VFAt6Pnb csv_results_41_303910_mp-04-his-hears.csv\n",
            "Retrieving folder list completed\n",
            "Building directory structure\n",
            "Building directory structure completed\n",
            "Downloading...\n",
            "From: https://drive.google.com/uc?id=1tD8HqtkOr7xiuFEJKvOSrDAjb-esapyO\n",
            "To: /content/export_41/csv_results_41_255439_mp-01-naamsestraat-35-maxim.csv\n",
            "100% 2.46M/2.46M [00:00<00:00, 13.5MB/s]\n",
            "Downloading...\n",
            "From: https://drive.google.com/uc?id=1zX9TGJKlVJ2g28jICrSLsMFNIjKG8cFu\n",
            "To: /content/export_41/csv_results_41_255440_mp-02-naamsestraat-57-xior.csv\n",
            "100% 389k/389k [00:00<00:00, 150MB/s]\n",
            "Downloading...\n",
            "From: https://drive.google.com/uc?id=1aVBdOAPC3AvhA17tviNg2uKRE3Zuni4O\n",
            "To: /content/export_41/csv_results_41_255441_mp-03-naamsestraat-62-taste.csv\n",
            "100% 650k/650k [00:00<00:00, 151MB/s]\n",
            "Downloading...\n",
            "From: https://drive.google.com/uc?id=1StsD3hUJKDgKw1-kZsyTN7z5e9Uwl5GJ\n",
            "To: /content/export_41/csv_results_41_255442_mp-05-calvariekapel-ku-leuven.csv\n",
            "100% 1.05M/1.05M [00:00<00:00, 138MB/s]\n",
            "Downloading...\n",
            "From: https://drive.google.com/uc?id=1fBz6KYwKzD6TtFdLoZIl_C4XFToIOKUD\n",
            "To: /content/export_41/csv_results_41_255443_mp-06-parkstraat-2-la-filosovia.csv\n",
            "100% 952k/952k [00:00<00:00, 166MB/s]\n",
            "Downloading...\n",
            "From: https://drive.google.com/uc?id=1lT_2vRLlBuc3NUgXrG_ZJ25XwzyZv--F\n",
            "To: /content/export_41/csv_results_41_255444_mp-07-naamsestraat-81.csv\n",
            "100% 1.99M/1.99M [00:00<00:00, 142MB/s]\n",
            "Downloading...\n",
            "From: https://drive.google.com/uc?id=1sDjyy3X21FtKwskV1q7iiYLNjTYeCoUt\n",
            "To: /content/export_41/csv_results_41_255445_mp-08-kiosk-stadspark.csv\n",
            "100% 275/275 [00:00<00:00, 962kB/s]\n",
            "Downloading...\n",
            "From: https://drive.google.com/uc?id=1NJ0TZEWiZb1y0cuNrnvibMrV4oUmt2Qy\n",
            "To: /content/export_41/csv_results_41_280324_mp08bis---vrijthof.csv\n",
            "100% 31.1k/31.1k [00:00<00:00, 18.7MB/s]\n",
            "Downloading...\n",
            "From: https://drive.google.com/uc?id=1d3cjhi_nC9fbcsh7Gq2GJyX5VFAt6Pnb\n",
            "To: /content/export_41/csv_results_41_303910_mp-04-his-hears.csv\n",
            "100% 275/275 [00:00<00:00, 1.58MB/s]\n",
            "Download completed\n"
          ]
        }
      ]
    },
    {
      "cell_type": "code",
      "source": [
        "# reading export_41 data files\n",
        "event_1 = pd.read_csv('/content/export_41/csv_results_41_280324_mp08bis---vrijthof.csv', sep=';')\n",
        "event_2 = pd.read_csv('/content/export_41/csv_results_41_255439_mp-01-naamsestraat-35-maxim.csv', sep=';')\n",
        "event_3 = pd.read_csv('/content/export_41/csv_results_41_255440_mp-02-naamsestraat-57-xior.csv', sep=';')\n",
        "event_4 = pd.read_csv('/content/export_41/csv_results_41_255441_mp-03-naamsestraat-62-taste.csv', sep=';')\n",
        "event_5 = pd.read_csv('/content/export_41/csv_results_41_303910_mp-04-his-hears.csv', sep=';')\n",
        "event_6 = pd.read_csv('/content/export_41/csv_results_41_255445_mp-08-kiosk-stadspark.csv', sep=';')\n",
        "event_7 = pd.read_csv('/content/export_41/csv_results_41_255442_mp-05-calvariekapel-ku-leuven.csv', sep=';')\n",
        "event_8 = pd.read_csv('/content/export_41/csv_results_41_255443_mp-06-parkstraat-2-la-filosovia.csv', sep=';')\n",
        "event_9 = pd.read_csv('/content/export_41/csv_results_41_255444_mp-07-naamsestraat-81.csv', sep=';')\n",
        "\n",
        "# Note: locations 5 and 6 are completely empty, there was no noise detected or the device was defect!\n",
        "frames = [event_1, event_2, event_3, event_4, event_7, event_8, event_9] ;\n",
        "export41_concat = pd.concat(frames);\n",
        "\n",
        "# Note: we ordered the locations according to distance from the Oude Markt! (starting from closest) "
      ],
      "metadata": {
        "id": "AD-2_VmrL6wM"
      },
      "execution_count": null,
      "outputs": []
    },
    {
      "cell_type": "code",
      "source": [
        "# 1. Drop some irrelevant columns\n",
        "export41 = export41_concat.drop(columns=['#object_id', 'noise_event_laeq_model_id', 'noise_event_laeq_model_id_unit', 'noise_event_laeq_primary_detected_certainty_unit', 'noise_event_laeq_primary_detected_class_unit'])\n",
        "\n",
        "# Some justification:\n",
        "# '#object_id' --> it is sufficient if we keep the column 'description'\n",
        "# 'noise_event_laeq_model_id' --> is not empty but has no clear interpretation...\n",
        "\n",
        "# 2. Drop observations that have 2 or more NaN values\n",
        "export41 = export41.dropna(thresh = 3, axis = 0)\n",
        "\n",
        "# 3. Drop all noise events that were recorded with 0% certainty\n",
        "export41 = export41[export41[\"noise_event_laeq_primary_detected_certainty\"] != 0].reset_index(drop=True)"
      ],
      "metadata": {
        "id": "KHq3HH5S26q7"
      },
      "execution_count": null,
      "outputs": []
    },
    {
      "cell_type": "code",
      "source": [
        "# 4. Make column 'result_timestamp' a datetime-object\n",
        "export41['result_timestamp'] = pd.to_datetime(export41['result_timestamp'], format = '%d/%m/%Y %H:%M:%S.%f')\n",
        "export41['result_timestamp'] = export41['result_timestamp'].dt.tz_localize(pytz.timezone('Europe/Brussels')) # set timezone\n",
        "# round times to 10minutes, this way we can match it with the meteodata\n",
        "export41['result_timestamp'] = export41['result_timestamp'].dt.round('10min') \n",
        "# check\n",
        "export41.head()"
      ],
      "metadata": {
        "id": "fEpFR6MMU0rK",
        "colab": {
          "base_uri": "https://localhost:8080/",
          "height": 206
        },
        "outputId": "e289c957-5e60-451a-e93b-402a4b923f9a"
      },
      "execution_count": null,
      "outputs": [
        {
          "output_type": "execute_result",
          "data": {
            "text/plain": [
              "          description          result_timestamp  \\\n",
              "0  MP08bis - Vrijthof 2022-04-20 12:30:00+02:00   \n",
              "1  MP08bis - Vrijthof 2022-04-24 21:10:00+02:00   \n",
              "2  MP08bis - Vrijthof 2022-04-24 21:10:00+02:00   \n",
              "3  MP08bis - Vrijthof 2022-05-09 13:20:00+02:00   \n",
              "4  MP08bis - Vrijthof 2022-05-10 03:40:00+02:00   \n",
              "\n",
              "   noise_event_laeq_primary_detected_certainty  \\\n",
              "0                                        100.0   \n",
              "1                                        100.0   \n",
              "2                                        100.0   \n",
              "3                                        100.0   \n",
              "4                                        100.0   \n",
              "\n",
              "  noise_event_laeq_primary_detected_class  \n",
              "0          Transport road - Passenger car  \n",
              "1                  Nature elements - Wind  \n",
              "2                  Nature elements - Wind  \n",
              "3                  Transport road - Siren  \n",
              "4                  Transport road - Siren  "
            ],
            "text/html": [
              "\n",
              "  <div id=\"df-84280797-6777-4ad2-9c6a-0d16144bfee2\">\n",
              "    <div class=\"colab-df-container\">\n",
              "      <div>\n",
              "<style scoped>\n",
              "    .dataframe tbody tr th:only-of-type {\n",
              "        vertical-align: middle;\n",
              "    }\n",
              "\n",
              "    .dataframe tbody tr th {\n",
              "        vertical-align: top;\n",
              "    }\n",
              "\n",
              "    .dataframe thead th {\n",
              "        text-align: right;\n",
              "    }\n",
              "</style>\n",
              "<table border=\"1\" class=\"dataframe\">\n",
              "  <thead>\n",
              "    <tr style=\"text-align: right;\">\n",
              "      <th></th>\n",
              "      <th>description</th>\n",
              "      <th>result_timestamp</th>\n",
              "      <th>noise_event_laeq_primary_detected_certainty</th>\n",
              "      <th>noise_event_laeq_primary_detected_class</th>\n",
              "    </tr>\n",
              "  </thead>\n",
              "  <tbody>\n",
              "    <tr>\n",
              "      <th>0</th>\n",
              "      <td>MP08bis - Vrijthof</td>\n",
              "      <td>2022-04-20 12:30:00+02:00</td>\n",
              "      <td>100.0</td>\n",
              "      <td>Transport road - Passenger car</td>\n",
              "    </tr>\n",
              "    <tr>\n",
              "      <th>1</th>\n",
              "      <td>MP08bis - Vrijthof</td>\n",
              "      <td>2022-04-24 21:10:00+02:00</td>\n",
              "      <td>100.0</td>\n",
              "      <td>Nature elements - Wind</td>\n",
              "    </tr>\n",
              "    <tr>\n",
              "      <th>2</th>\n",
              "      <td>MP08bis - Vrijthof</td>\n",
              "      <td>2022-04-24 21:10:00+02:00</td>\n",
              "      <td>100.0</td>\n",
              "      <td>Nature elements - Wind</td>\n",
              "    </tr>\n",
              "    <tr>\n",
              "      <th>3</th>\n",
              "      <td>MP08bis - Vrijthof</td>\n",
              "      <td>2022-05-09 13:20:00+02:00</td>\n",
              "      <td>100.0</td>\n",
              "      <td>Transport road - Siren</td>\n",
              "    </tr>\n",
              "    <tr>\n",
              "      <th>4</th>\n",
              "      <td>MP08bis - Vrijthof</td>\n",
              "      <td>2022-05-10 03:40:00+02:00</td>\n",
              "      <td>100.0</td>\n",
              "      <td>Transport road - Siren</td>\n",
              "    </tr>\n",
              "  </tbody>\n",
              "</table>\n",
              "</div>\n",
              "      <button class=\"colab-df-convert\" onclick=\"convertToInteractive('df-84280797-6777-4ad2-9c6a-0d16144bfee2')\"\n",
              "              title=\"Convert this dataframe to an interactive table.\"\n",
              "              style=\"display:none;\">\n",
              "        \n",
              "  <svg xmlns=\"http://www.w3.org/2000/svg\" height=\"24px\"viewBox=\"0 0 24 24\"\n",
              "       width=\"24px\">\n",
              "    <path d=\"M0 0h24v24H0V0z\" fill=\"none\"/>\n",
              "    <path d=\"M18.56 5.44l.94 2.06.94-2.06 2.06-.94-2.06-.94-.94-2.06-.94 2.06-2.06.94zm-11 1L8.5 8.5l.94-2.06 2.06-.94-2.06-.94L8.5 2.5l-.94 2.06-2.06.94zm10 10l.94 2.06.94-2.06 2.06-.94-2.06-.94-.94-2.06-.94 2.06-2.06.94z\"/><path d=\"M17.41 7.96l-1.37-1.37c-.4-.4-.92-.59-1.43-.59-.52 0-1.04.2-1.43.59L10.3 9.45l-7.72 7.72c-.78.78-.78 2.05 0 2.83L4 21.41c.39.39.9.59 1.41.59.51 0 1.02-.2 1.41-.59l7.78-7.78 2.81-2.81c.8-.78.8-2.07 0-2.86zM5.41 20L4 18.59l7.72-7.72 1.47 1.35L5.41 20z\"/>\n",
              "  </svg>\n",
              "      </button>\n",
              "      \n",
              "  <style>\n",
              "    .colab-df-container {\n",
              "      display:flex;\n",
              "      flex-wrap:wrap;\n",
              "      gap: 12px;\n",
              "    }\n",
              "\n",
              "    .colab-df-convert {\n",
              "      background-color: #E8F0FE;\n",
              "      border: none;\n",
              "      border-radius: 50%;\n",
              "      cursor: pointer;\n",
              "      display: none;\n",
              "      fill: #1967D2;\n",
              "      height: 32px;\n",
              "      padding: 0 0 0 0;\n",
              "      width: 32px;\n",
              "    }\n",
              "\n",
              "    .colab-df-convert:hover {\n",
              "      background-color: #E2EBFA;\n",
              "      box-shadow: 0px 1px 2px rgba(60, 64, 67, 0.3), 0px 1px 3px 1px rgba(60, 64, 67, 0.15);\n",
              "      fill: #174EA6;\n",
              "    }\n",
              "\n",
              "    [theme=dark] .colab-df-convert {\n",
              "      background-color: #3B4455;\n",
              "      fill: #D2E3FC;\n",
              "    }\n",
              "\n",
              "    [theme=dark] .colab-df-convert:hover {\n",
              "      background-color: #434B5C;\n",
              "      box-shadow: 0px 1px 3px 1px rgba(0, 0, 0, 0.15);\n",
              "      filter: drop-shadow(0px 1px 2px rgba(0, 0, 0, 0.3));\n",
              "      fill: #FFFFFF;\n",
              "    }\n",
              "  </style>\n",
              "\n",
              "      <script>\n",
              "        const buttonEl =\n",
              "          document.querySelector('#df-84280797-6777-4ad2-9c6a-0d16144bfee2 button.colab-df-convert');\n",
              "        buttonEl.style.display =\n",
              "          google.colab.kernel.accessAllowed ? 'block' : 'none';\n",
              "\n",
              "        async function convertToInteractive(key) {\n",
              "          const element = document.querySelector('#df-84280797-6777-4ad2-9c6a-0d16144bfee2');\n",
              "          const dataTable =\n",
              "            await google.colab.kernel.invokeFunction('convertToInteractive',\n",
              "                                                     [key], {});\n",
              "          if (!dataTable) return;\n",
              "\n",
              "          const docLinkHtml = 'Like what you see? Visit the ' +\n",
              "            '<a target=\"_blank\" href=https://colab.research.google.com/notebooks/data_table.ipynb>data table notebook</a>'\n",
              "            + ' to learn more about interactive tables.';\n",
              "          element.innerHTML = '';\n",
              "          dataTable['output_type'] = 'display_data';\n",
              "          await google.colab.output.renderOutput(dataTable, element);\n",
              "          const docLink = document.createElement('div');\n",
              "          docLink.innerHTML = docLinkHtml;\n",
              "          element.appendChild(docLink);\n",
              "        }\n",
              "      </script>\n",
              "    </div>\n",
              "  </div>\n",
              "  "
            ]
          },
          "metadata": {},
          "execution_count": 13
        }
      ]
    },
    {
      "cell_type": "markdown",
      "source": [
        "### **1.3 Traffic Data:**"
      ],
      "metadata": {
        "id": "webjr4XQIa5m"
      }
    },
    {
      "cell_type": "code",
      "source": [
        "import requests\n",
        "import json\n",
        "\n",
        "# Read traffic data from the telraam API \n",
        "url = \"https://telraam-api.net/v1/reports/traffic\"\n",
        "# extract traffic data period: 1jan - 1april 2022\n",
        "body = {\n",
        "    \"id\":\"9000000637\",\n",
        "    \"time_start\":\"2021-12-31 23:00:00Z\",\n",
        "    \"time_end\":\"2022-04-01 23:50:00Z\",\n",
        "    \"level\":\"segments\",\n",
        "    \"format\":\"per-hour\"\n",
        "}\n",
        "headers = {\n",
        "  'X-Api-Key': '30dUHC5xmy8m66g5efjhg6F1MnBA7IVQwXfOUfse'\n",
        "}\n",
        "payload = str(body)\n",
        "response = requests.request(\"POST\", url, headers=headers, data=payload)\n",
        "json = response.json()\n",
        "df1 = pd.DataFrame(json['report'])\n",
        "\n",
        "# extract traffic data period: 2april-1july 2022\n",
        "body = {\n",
        "    \"id\":\"9000000637\",\n",
        "    \"time_start\":\"2022-04-02 00:00:00Z\",\n",
        "    \"time_end\":\"2022-07-01 23:50:00Z\",\n",
        "    \"level\":\"segments\",\n",
        "    \"format\":\"per-hour\"\n",
        "}\n",
        "headers = {\n",
        "  'X-Api-Key': '30dUHC5xmy8m66g5efjhg6F1MnBA7IVQwXfOUfse'\n",
        "}\n",
        "payload = str(body)\n",
        "response = requests.request(\"POST\", url, headers=headers, data=payload)\n",
        "json = response.json()\n",
        "df2 = pd.DataFrame(json['report'])\n",
        "\n",
        "# extract traffic data period: 2july - 1oct 2022\n",
        "body = {\n",
        "    \"id\":\"9000000637\",\n",
        "    \"time_start\":\"2022-07-02 00:00:00Z\",\n",
        "    \"time_end\":\"2022-10-01 23:50:00Z\",\n",
        "    \"level\":\"segments\",\n",
        "    \"format\":\"per-hour\"\n",
        "}\n",
        "headers = {\n",
        "  'X-Api-Key': '30dUHC5xmy8m66g5efjhg6F1MnBA7IVQwXfOUfse'\n",
        "}\n",
        "payload = str(body)\n",
        "response = requests.request(\"POST\", url, headers=headers, data=payload)\n",
        "json = response.json()\n",
        "df3 = pd.DataFrame(json['report'])\n",
        "\n",
        "# extract traffic data period: 2oct - 31dec 2022\n",
        "body = {\n",
        "    \"id\":\"9000000637\",\n",
        "    \"time_start\":\"2022-10-02 00:00:00Z\",\n",
        "    \"time_end\":\"2022-12-31 23:50:00Z\",\n",
        "    \"level\":\"segments\",\n",
        "    \"format\":\"per-hour\"\n",
        "}\n",
        "headers = {\n",
        "  'X-Api-Key': '30dUHC5xmy8m66g5efjhg6F1MnBA7IVQwXfOUfse'\n",
        "}\n",
        "payload = str(body)\n",
        "response = requests.request(\"POST\", url, headers=headers, data=payload)\n",
        "json = response.json()\n",
        "df4 = pd.DataFrame(json['report'])\n",
        "\n",
        "# merge the four time periods together to obtain final traffic data\n",
        "traffic = pd.concat([df1, df2, df3, df4]).reset_index(drop=True)"
      ],
      "metadata": {
        "id": "_bHOsjHwIaL6"
      },
      "execution_count": null,
      "outputs": []
    },
    {
      "cell_type": "code",
      "source": [
        "# select the relevant variables\n",
        "traffic = traffic[['date', 'heavy', 'car', 'bike', 'pedestrian']]\n",
        "traffic.head()"
      ],
      "metadata": {
        "id": "841N1qr1M1S_",
        "colab": {
          "base_uri": "https://localhost:8080/",
          "height": 206
        },
        "outputId": "260e51f3-37ed-4324-e210-0210e503f6e1"
      },
      "execution_count": null,
      "outputs": [
        {
          "output_type": "execute_result",
          "data": {
            "text/plain": [
              "                       date  heavy  car  bike  pedestrian\n",
              "0  2021-12-31T23:00:00.000Z    0.0  0.0   0.0         0.0\n",
              "1  2022-01-01T00:00:00.000Z    0.0  0.0   0.0         0.0\n",
              "2  2022-01-01T01:00:00.000Z    0.0  0.0   0.0         0.0\n",
              "3  2022-01-01T02:00:00.000Z    0.0  0.0   0.0         0.0\n",
              "4  2022-01-01T03:00:00.000Z    0.0  0.0   0.0         0.0"
            ],
            "text/html": [
              "\n",
              "  <div id=\"df-bb2b15a0-21c0-4b75-9710-d18a6f869043\">\n",
              "    <div class=\"colab-df-container\">\n",
              "      <div>\n",
              "<style scoped>\n",
              "    .dataframe tbody tr th:only-of-type {\n",
              "        vertical-align: middle;\n",
              "    }\n",
              "\n",
              "    .dataframe tbody tr th {\n",
              "        vertical-align: top;\n",
              "    }\n",
              "\n",
              "    .dataframe thead th {\n",
              "        text-align: right;\n",
              "    }\n",
              "</style>\n",
              "<table border=\"1\" class=\"dataframe\">\n",
              "  <thead>\n",
              "    <tr style=\"text-align: right;\">\n",
              "      <th></th>\n",
              "      <th>date</th>\n",
              "      <th>heavy</th>\n",
              "      <th>car</th>\n",
              "      <th>bike</th>\n",
              "      <th>pedestrian</th>\n",
              "    </tr>\n",
              "  </thead>\n",
              "  <tbody>\n",
              "    <tr>\n",
              "      <th>0</th>\n",
              "      <td>2021-12-31T23:00:00.000Z</td>\n",
              "      <td>0.0</td>\n",
              "      <td>0.0</td>\n",
              "      <td>0.0</td>\n",
              "      <td>0.0</td>\n",
              "    </tr>\n",
              "    <tr>\n",
              "      <th>1</th>\n",
              "      <td>2022-01-01T00:00:00.000Z</td>\n",
              "      <td>0.0</td>\n",
              "      <td>0.0</td>\n",
              "      <td>0.0</td>\n",
              "      <td>0.0</td>\n",
              "    </tr>\n",
              "    <tr>\n",
              "      <th>2</th>\n",
              "      <td>2022-01-01T01:00:00.000Z</td>\n",
              "      <td>0.0</td>\n",
              "      <td>0.0</td>\n",
              "      <td>0.0</td>\n",
              "      <td>0.0</td>\n",
              "    </tr>\n",
              "    <tr>\n",
              "      <th>3</th>\n",
              "      <td>2022-01-01T02:00:00.000Z</td>\n",
              "      <td>0.0</td>\n",
              "      <td>0.0</td>\n",
              "      <td>0.0</td>\n",
              "      <td>0.0</td>\n",
              "    </tr>\n",
              "    <tr>\n",
              "      <th>4</th>\n",
              "      <td>2022-01-01T03:00:00.000Z</td>\n",
              "      <td>0.0</td>\n",
              "      <td>0.0</td>\n",
              "      <td>0.0</td>\n",
              "      <td>0.0</td>\n",
              "    </tr>\n",
              "  </tbody>\n",
              "</table>\n",
              "</div>\n",
              "      <button class=\"colab-df-convert\" onclick=\"convertToInteractive('df-bb2b15a0-21c0-4b75-9710-d18a6f869043')\"\n",
              "              title=\"Convert this dataframe to an interactive table.\"\n",
              "              style=\"display:none;\">\n",
              "        \n",
              "  <svg xmlns=\"http://www.w3.org/2000/svg\" height=\"24px\"viewBox=\"0 0 24 24\"\n",
              "       width=\"24px\">\n",
              "    <path d=\"M0 0h24v24H0V0z\" fill=\"none\"/>\n",
              "    <path d=\"M18.56 5.44l.94 2.06.94-2.06 2.06-.94-2.06-.94-.94-2.06-.94 2.06-2.06.94zm-11 1L8.5 8.5l.94-2.06 2.06-.94-2.06-.94L8.5 2.5l-.94 2.06-2.06.94zm10 10l.94 2.06.94-2.06 2.06-.94-2.06-.94-.94-2.06-.94 2.06-2.06.94z\"/><path d=\"M17.41 7.96l-1.37-1.37c-.4-.4-.92-.59-1.43-.59-.52 0-1.04.2-1.43.59L10.3 9.45l-7.72 7.72c-.78.78-.78 2.05 0 2.83L4 21.41c.39.39.9.59 1.41.59.51 0 1.02-.2 1.41-.59l7.78-7.78 2.81-2.81c.8-.78.8-2.07 0-2.86zM5.41 20L4 18.59l7.72-7.72 1.47 1.35L5.41 20z\"/>\n",
              "  </svg>\n",
              "      </button>\n",
              "      \n",
              "  <style>\n",
              "    .colab-df-container {\n",
              "      display:flex;\n",
              "      flex-wrap:wrap;\n",
              "      gap: 12px;\n",
              "    }\n",
              "\n",
              "    .colab-df-convert {\n",
              "      background-color: #E8F0FE;\n",
              "      border: none;\n",
              "      border-radius: 50%;\n",
              "      cursor: pointer;\n",
              "      display: none;\n",
              "      fill: #1967D2;\n",
              "      height: 32px;\n",
              "      padding: 0 0 0 0;\n",
              "      width: 32px;\n",
              "    }\n",
              "\n",
              "    .colab-df-convert:hover {\n",
              "      background-color: #E2EBFA;\n",
              "      box-shadow: 0px 1px 2px rgba(60, 64, 67, 0.3), 0px 1px 3px 1px rgba(60, 64, 67, 0.15);\n",
              "      fill: #174EA6;\n",
              "    }\n",
              "\n",
              "    [theme=dark] .colab-df-convert {\n",
              "      background-color: #3B4455;\n",
              "      fill: #D2E3FC;\n",
              "    }\n",
              "\n",
              "    [theme=dark] .colab-df-convert:hover {\n",
              "      background-color: #434B5C;\n",
              "      box-shadow: 0px 1px 3px 1px rgba(0, 0, 0, 0.15);\n",
              "      filter: drop-shadow(0px 1px 2px rgba(0, 0, 0, 0.3));\n",
              "      fill: #FFFFFF;\n",
              "    }\n",
              "  </style>\n",
              "\n",
              "      <script>\n",
              "        const buttonEl =\n",
              "          document.querySelector('#df-bb2b15a0-21c0-4b75-9710-d18a6f869043 button.colab-df-convert');\n",
              "        buttonEl.style.display =\n",
              "          google.colab.kernel.accessAllowed ? 'block' : 'none';\n",
              "\n",
              "        async function convertToInteractive(key) {\n",
              "          const element = document.querySelector('#df-bb2b15a0-21c0-4b75-9710-d18a6f869043');\n",
              "          const dataTable =\n",
              "            await google.colab.kernel.invokeFunction('convertToInteractive',\n",
              "                                                     [key], {});\n",
              "          if (!dataTable) return;\n",
              "\n",
              "          const docLinkHtml = 'Like what you see? Visit the ' +\n",
              "            '<a target=\"_blank\" href=https://colab.research.google.com/notebooks/data_table.ipynb>data table notebook</a>'\n",
              "            + ' to learn more about interactive tables.';\n",
              "          element.innerHTML = '';\n",
              "          dataTable['output_type'] = 'display_data';\n",
              "          await google.colab.output.renderOutput(dataTable, element);\n",
              "          const docLink = document.createElement('div');\n",
              "          docLink.innerHTML = docLinkHtml;\n",
              "          element.appendChild(docLink);\n",
              "        }\n",
              "      </script>\n",
              "    </div>\n",
              "  </div>\n",
              "  "
            ]
          },
          "metadata": {},
          "execution_count": 15
        }
      ]
    },
    {
      "cell_type": "code",
      "source": [
        "# Make column 'date' a datetime-object\n",
        "traffic['date'] = pd.to_datetime(traffic['date'], format=\"%Y-%m-%d %H:%M:%S\")"
      ],
      "metadata": {
        "id": "VJy5YCI8adr1"
      },
      "execution_count": null,
      "outputs": []
    },
    {
      "cell_type": "markdown",
      "source": [
        "### **A. Problem with Missing Values:** \n",
        "The data from Telraam at Naamsestraat (segment:9000000637) was only measured between 8:00 and 15:00 and sometimes also at 7:00. All data outside this interval was measured as 0.0, meaning that we have no traffic data during night time. We try imputation methods to fill in as many of the zero values. "
      ],
      "metadata": {
        "id": "LxoZJrH2ifhZ"
      }
    },
    {
      "cell_type": "code",
      "source": [
        "## 1. Observations from 15:00 can be caried forward one more hour, so untill 16:00\n",
        "\n",
        "traffic['date'] = pd.to_datetime(traffic['date'])\n",
        "col_15 = traffic[traffic['date'].dt.hour == 15].drop(\"date\", axis=1) # get observations from 15:00\n",
        "col_15.index = col_15.index + 1 # up there index so that it matches observations from 16:00\n",
        "date_16 = traffic.loc[traffic['date'].dt.hour == 16,\"date\"].to_frame(name='date')\n",
        "merged = date_16.join(col_15)\n",
        "# change observations from 16:00 in original dataset to the new ones from \"merged\"\n",
        "traffic.loc[merged.index] = merged"
      ],
      "metadata": {
        "id": "pJCSzTV1ieL4"
      },
      "execution_count": null,
      "outputs": []
    },
    {
      "cell_type": "code",
      "source": [
        "## 2. Set empty observation from 7:00 to average of 7:00\n",
        "\n",
        "average_7 = traffic[traffic['date'].dt.hour == 7].drop(\"date\", axis=1).mean(axis=0)\n",
        "#get all observations from 7:00\n",
        "obs_at_7 = traffic[traffic['date'].dt.hour == 7].drop(\"date\",axis=1) \n",
        "# select the ones that are zero in all 4 columns\n",
        "num_zero = obs_at_7.eq(0).sum(axis=1)\n",
        "zeros_7 = obs_at_7[num_zero == 4]\n",
        "zeros_7_idx = zeros_7.index \n",
        "\n",
        "# make dataframe with only average_7\n",
        "average_7_df = pd.DataFrame(np.tile(average_7, (len(zeros_7), 1)))\n",
        "# change index to match with index from the to be changed observations\n",
        "average_7_df.index = zeros_7_idx\n",
        "# change colnames\n",
        "average_7_df.columns = obs_at_7.columns\n",
        "# add 'date' column\n",
        "average_7_df = pd.DataFrame(traffic.loc[zeros_7_idx][\"date\"]).join(average_7_df)\n",
        "# change 7:00 observations in traffic dataset\n",
        "traffic.loc[average_7_df.index] = average_7_df"
      ],
      "metadata": {
        "id": "6ouW66gQ7zrf"
      },
      "execution_count": null,
      "outputs": []
    },
    {
      "cell_type": "markdown",
      "source": [
        "# **2. Modelfitting:**\n",
        "\n",
        "\n",
        "\n",
        "We fit a machine learning algorithm trained on export41 (noise event class), meteo data (date, weather conditions...) and traffic data (number of pedestrians, cars,...) that can predict for a new observation (date/time, weather conditions...) what the probability is for all noise events. <br> **Approach:** We fit three different classifiers (Naive Bayes, Decision tree and Random Forest) afterwards we compare their score on a test set to choose the best one. "
      ],
      "metadata": {
        "id": "pqXvUQVwR_LM"
      }
    },
    {
      "cell_type": "code",
      "source": [
        "## PREPROCESSING ##\n",
        "# 1. Merge export41, average_meteo and traffic together based on time from export41\n",
        "export41.rename(columns={'result_timestamp': 'DATEUTC', 'noise_event_laeq_primary_detected_certainty' : 'certainty', \n",
        "                         'noise_event_laeq_primary_detected_class' : 'noise_event' }, inplace=True)\n",
        "traffic.rename(columns={'date': 'DATEUTC'}, inplace=True)\n",
        "almost_merged = pd.merge(average_meteo,export41, on='DATEUTC')\n",
        "merged = pd.merge(almost_merged, traffic, on = \"DATEUTC\")\n",
        "# Make column 'DATEUTC' a datetime-object\n",
        "merged['DATEUTC'] = pd.to_datetime(merged['DATEUTC'], format=\"%Y-%m-%d %H:%M:%S\")"
      ],
      "metadata": {
        "id": "J3fvMX0-X5w7"
      },
      "execution_count": null,
      "outputs": []
    },
    {
      "cell_type": "code",
      "source": [
        "merged.head()"
      ],
      "metadata": {
        "colab": {
          "base_uri": "https://localhost:8080/",
          "height": 495
        },
        "id": "6iXuI2PBYyY1",
        "outputId": "636f1b0a-f0cd-45ed-ceb7-199062349e04"
      },
      "execution_count": null,
      "outputs": [
        {
          "output_type": "execute_result",
          "data": {
            "text/plain": [
              "                    DATEUTC  LC_HUMIDITY  LC_DWPTEMP     LC_RAD  LC_RAININ  \\\n",
              "0 2022-01-07 17:00:00+01:00    92.250000    1.642917   0.125000   0.000021   \n",
              "1 2022-01-09 22:00:00+01:00    93.954545    0.514545   0.090909   0.000000   \n",
              "2 2022-01-10 11:00:00+01:00    97.723404   -0.529574  43.702128   0.000000   \n",
              "3 2022-01-11 09:00:00+01:00    92.553191   -0.800000   3.531915   0.000000   \n",
              "4 2022-01-12 07:00:00+01:00    90.063830    0.456809   0.085106   0.000043   \n",
              "\n",
              "   LC_DAILYRAIN   LC_RAD60   AV_TEMP  LC_WINDDIR  LC_WINDSPEED  \\\n",
              "0      0.004667   8.645833  2.753157  -10.571429      0.081429   \n",
              "1      0.005909   0.086957  1.369592   -9.428571      0.000000   \n",
              "2      0.000021  29.638298 -0.248377  -40.142857      0.055714   \n",
              "3      0.000000   0.085106  0.271255   35.285714      0.054286   \n",
              "4      0.000000   0.085106  1.907448  -31.285714      0.017143   \n",
              "\n",
              "                    description  certainty                     noise_event  \\\n",
              "0  MP 03: Naamsestraat 62 Taste      100.0  Transport road - Passenger car   \n",
              "1  MP 03: Naamsestraat 62 Taste       99.0  Transport road - Passenger car   \n",
              "2  MP 03: Naamsestraat 62 Taste       42.0          Human voice - Shouting   \n",
              "3  MP 03: Naamsestraat 62 Taste       67.0  Transport road - Passenger car   \n",
              "4  MP 03: Naamsestraat 62 Taste       29.0          Human voice - Shouting   \n",
              "\n",
              "       heavy         car        bike  pedestrian  \n",
              "0  20.729367  122.994242  172.744722  120.230326  \n",
              "1   0.000000    0.000000    0.000000    0.000000  \n",
              "2  55.095652  101.426087  201.600000   87.652174  \n",
              "3  71.043093  137.736609  194.281112  101.490133  \n",
              "4   0.000000    0.000000    0.000000    0.000000  "
            ],
            "text/html": [
              "\n",
              "  <div id=\"df-d649d0b7-d460-401c-b409-749eff0a91b4\">\n",
              "    <div class=\"colab-df-container\">\n",
              "      <div>\n",
              "<style scoped>\n",
              "    .dataframe tbody tr th:only-of-type {\n",
              "        vertical-align: middle;\n",
              "    }\n",
              "\n",
              "    .dataframe tbody tr th {\n",
              "        vertical-align: top;\n",
              "    }\n",
              "\n",
              "    .dataframe thead th {\n",
              "        text-align: right;\n",
              "    }\n",
              "</style>\n",
              "<table border=\"1\" class=\"dataframe\">\n",
              "  <thead>\n",
              "    <tr style=\"text-align: right;\">\n",
              "      <th></th>\n",
              "      <th>DATEUTC</th>\n",
              "      <th>LC_HUMIDITY</th>\n",
              "      <th>LC_DWPTEMP</th>\n",
              "      <th>LC_RAD</th>\n",
              "      <th>LC_RAININ</th>\n",
              "      <th>LC_DAILYRAIN</th>\n",
              "      <th>LC_RAD60</th>\n",
              "      <th>AV_TEMP</th>\n",
              "      <th>LC_WINDDIR</th>\n",
              "      <th>LC_WINDSPEED</th>\n",
              "      <th>description</th>\n",
              "      <th>certainty</th>\n",
              "      <th>noise_event</th>\n",
              "      <th>heavy</th>\n",
              "      <th>car</th>\n",
              "      <th>bike</th>\n",
              "      <th>pedestrian</th>\n",
              "    </tr>\n",
              "  </thead>\n",
              "  <tbody>\n",
              "    <tr>\n",
              "      <th>0</th>\n",
              "      <td>2022-01-07 17:00:00+01:00</td>\n",
              "      <td>92.250000</td>\n",
              "      <td>1.642917</td>\n",
              "      <td>0.125000</td>\n",
              "      <td>0.000021</td>\n",
              "      <td>0.004667</td>\n",
              "      <td>8.645833</td>\n",
              "      <td>2.753157</td>\n",
              "      <td>-10.571429</td>\n",
              "      <td>0.081429</td>\n",
              "      <td>MP 03: Naamsestraat 62 Taste</td>\n",
              "      <td>100.0</td>\n",
              "      <td>Transport road - Passenger car</td>\n",
              "      <td>20.729367</td>\n",
              "      <td>122.994242</td>\n",
              "      <td>172.744722</td>\n",
              "      <td>120.230326</td>\n",
              "    </tr>\n",
              "    <tr>\n",
              "      <th>1</th>\n",
              "      <td>2022-01-09 22:00:00+01:00</td>\n",
              "      <td>93.954545</td>\n",
              "      <td>0.514545</td>\n",
              "      <td>0.090909</td>\n",
              "      <td>0.000000</td>\n",
              "      <td>0.005909</td>\n",
              "      <td>0.086957</td>\n",
              "      <td>1.369592</td>\n",
              "      <td>-9.428571</td>\n",
              "      <td>0.000000</td>\n",
              "      <td>MP 03: Naamsestraat 62 Taste</td>\n",
              "      <td>99.0</td>\n",
              "      <td>Transport road - Passenger car</td>\n",
              "      <td>0.000000</td>\n",
              "      <td>0.000000</td>\n",
              "      <td>0.000000</td>\n",
              "      <td>0.000000</td>\n",
              "    </tr>\n",
              "    <tr>\n",
              "      <th>2</th>\n",
              "      <td>2022-01-10 11:00:00+01:00</td>\n",
              "      <td>97.723404</td>\n",
              "      <td>-0.529574</td>\n",
              "      <td>43.702128</td>\n",
              "      <td>0.000000</td>\n",
              "      <td>0.000021</td>\n",
              "      <td>29.638298</td>\n",
              "      <td>-0.248377</td>\n",
              "      <td>-40.142857</td>\n",
              "      <td>0.055714</td>\n",
              "      <td>MP 03: Naamsestraat 62 Taste</td>\n",
              "      <td>42.0</td>\n",
              "      <td>Human voice - Shouting</td>\n",
              "      <td>55.095652</td>\n",
              "      <td>101.426087</td>\n",
              "      <td>201.600000</td>\n",
              "      <td>87.652174</td>\n",
              "    </tr>\n",
              "    <tr>\n",
              "      <th>3</th>\n",
              "      <td>2022-01-11 09:00:00+01:00</td>\n",
              "      <td>92.553191</td>\n",
              "      <td>-0.800000</td>\n",
              "      <td>3.531915</td>\n",
              "      <td>0.000000</td>\n",
              "      <td>0.000000</td>\n",
              "      <td>0.085106</td>\n",
              "      <td>0.271255</td>\n",
              "      <td>35.285714</td>\n",
              "      <td>0.054286</td>\n",
              "      <td>MP 03: Naamsestraat 62 Taste</td>\n",
              "      <td>67.0</td>\n",
              "      <td>Transport road - Passenger car</td>\n",
              "      <td>71.043093</td>\n",
              "      <td>137.736609</td>\n",
              "      <td>194.281112</td>\n",
              "      <td>101.490133</td>\n",
              "    </tr>\n",
              "    <tr>\n",
              "      <th>4</th>\n",
              "      <td>2022-01-12 07:00:00+01:00</td>\n",
              "      <td>90.063830</td>\n",
              "      <td>0.456809</td>\n",
              "      <td>0.085106</td>\n",
              "      <td>0.000043</td>\n",
              "      <td>0.000000</td>\n",
              "      <td>0.085106</td>\n",
              "      <td>1.907448</td>\n",
              "      <td>-31.285714</td>\n",
              "      <td>0.017143</td>\n",
              "      <td>MP 03: Naamsestraat 62 Taste</td>\n",
              "      <td>29.0</td>\n",
              "      <td>Human voice - Shouting</td>\n",
              "      <td>0.000000</td>\n",
              "      <td>0.000000</td>\n",
              "      <td>0.000000</td>\n",
              "      <td>0.000000</td>\n",
              "    </tr>\n",
              "  </tbody>\n",
              "</table>\n",
              "</div>\n",
              "      <button class=\"colab-df-convert\" onclick=\"convertToInteractive('df-d649d0b7-d460-401c-b409-749eff0a91b4')\"\n",
              "              title=\"Convert this dataframe to an interactive table.\"\n",
              "              style=\"display:none;\">\n",
              "        \n",
              "  <svg xmlns=\"http://www.w3.org/2000/svg\" height=\"24px\"viewBox=\"0 0 24 24\"\n",
              "       width=\"24px\">\n",
              "    <path d=\"M0 0h24v24H0V0z\" fill=\"none\"/>\n",
              "    <path d=\"M18.56 5.44l.94 2.06.94-2.06 2.06-.94-2.06-.94-.94-2.06-.94 2.06-2.06.94zm-11 1L8.5 8.5l.94-2.06 2.06-.94-2.06-.94L8.5 2.5l-.94 2.06-2.06.94zm10 10l.94 2.06.94-2.06 2.06-.94-2.06-.94-.94-2.06-.94 2.06-2.06.94z\"/><path d=\"M17.41 7.96l-1.37-1.37c-.4-.4-.92-.59-1.43-.59-.52 0-1.04.2-1.43.59L10.3 9.45l-7.72 7.72c-.78.78-.78 2.05 0 2.83L4 21.41c.39.39.9.59 1.41.59.51 0 1.02-.2 1.41-.59l7.78-7.78 2.81-2.81c.8-.78.8-2.07 0-2.86zM5.41 20L4 18.59l7.72-7.72 1.47 1.35L5.41 20z\"/>\n",
              "  </svg>\n",
              "      </button>\n",
              "      \n",
              "  <style>\n",
              "    .colab-df-container {\n",
              "      display:flex;\n",
              "      flex-wrap:wrap;\n",
              "      gap: 12px;\n",
              "    }\n",
              "\n",
              "    .colab-df-convert {\n",
              "      background-color: #E8F0FE;\n",
              "      border: none;\n",
              "      border-radius: 50%;\n",
              "      cursor: pointer;\n",
              "      display: none;\n",
              "      fill: #1967D2;\n",
              "      height: 32px;\n",
              "      padding: 0 0 0 0;\n",
              "      width: 32px;\n",
              "    }\n",
              "\n",
              "    .colab-df-convert:hover {\n",
              "      background-color: #E2EBFA;\n",
              "      box-shadow: 0px 1px 2px rgba(60, 64, 67, 0.3), 0px 1px 3px 1px rgba(60, 64, 67, 0.15);\n",
              "      fill: #174EA6;\n",
              "    }\n",
              "\n",
              "    [theme=dark] .colab-df-convert {\n",
              "      background-color: #3B4455;\n",
              "      fill: #D2E3FC;\n",
              "    }\n",
              "\n",
              "    [theme=dark] .colab-df-convert:hover {\n",
              "      background-color: #434B5C;\n",
              "      box-shadow: 0px 1px 3px 1px rgba(0, 0, 0, 0.15);\n",
              "      filter: drop-shadow(0px 1px 2px rgba(0, 0, 0, 0.3));\n",
              "      fill: #FFFFFF;\n",
              "    }\n",
              "  </style>\n",
              "\n",
              "      <script>\n",
              "        const buttonEl =\n",
              "          document.querySelector('#df-d649d0b7-d460-401c-b409-749eff0a91b4 button.colab-df-convert');\n",
              "        buttonEl.style.display =\n",
              "          google.colab.kernel.accessAllowed ? 'block' : 'none';\n",
              "\n",
              "        async function convertToInteractive(key) {\n",
              "          const element = document.querySelector('#df-d649d0b7-d460-401c-b409-749eff0a91b4');\n",
              "          const dataTable =\n",
              "            await google.colab.kernel.invokeFunction('convertToInteractive',\n",
              "                                                     [key], {});\n",
              "          if (!dataTable) return;\n",
              "\n",
              "          const docLinkHtml = 'Like what you see? Visit the ' +\n",
              "            '<a target=\"_blank\" href=https://colab.research.google.com/notebooks/data_table.ipynb>data table notebook</a>'\n",
              "            + ' to learn more about interactive tables.';\n",
              "          element.innerHTML = '';\n",
              "          dataTable['output_type'] = 'display_data';\n",
              "          await google.colab.output.renderOutput(dataTable, element);\n",
              "          const docLink = document.createElement('div');\n",
              "          docLink.innerHTML = docLinkHtml;\n",
              "          element.appendChild(docLink);\n",
              "        }\n",
              "      </script>\n",
              "    </div>\n",
              "  </div>\n",
              "  "
            ]
          },
          "metadata": {},
          "execution_count": 20
        }
      ]
    },
    {
      "cell_type": "code",
      "source": [
        "# 2. Create extra columns (hour, day, month, weekend, academic calender)\n",
        "\n",
        "# Tim, Day, Month\n",
        "merged['hour']=merged[\"DATEUTC\"].dt.hour #dt.hour rounds down to the hour that we are in: for example 23:35:00 = 23.\n",
        "merged['dayOfWeek']=merged[\"DATEUTC\"].dt.dayofweek # 0 = Mon, 1 = Tues,... , 6 = Sun\n",
        "merged['month']=merged[\"DATEUTC\"].dt.month\n",
        "\n",
        "# Include weekend (0/1) \n",
        "merged['weekend'] = 1 # create column that is 1 everywhere\n",
        "merged.loc[merged['dayOfWeek'] <= 4, 'weekend'] = 0 #weekday=0, weekend=1\n",
        "\n",
        "#Academic Calender: schoolyear=0, no class/exams=1\n",
        "merged['day']=merged[\"DATEUTC\"].dt.day # is necessary if we are going to specify academic calender, will later be deleted\n",
        "merged['academic_calender'] = 0\n",
        "merged.loc[merged['month'].isin([1,6,7,8,9]), 'academic_calender'] = 1 #jan, june, july, aug, sept\n",
        "merged.loc[(merged['month'] == 12) & (merged['day'].isin(range(25,32,1))), 'academic_calender'] = 1 # last week of dec. (exams)\n",
        "merged.loc[(merged['month'] == 2) & (merged['day'].isin(range(1,14,1))), 'academic_calender'] = 1 # first 2 weeks in feb. (exams + vacation)\n",
        "merged.loc[(merged['month'] == 4) & (merged['day'].isin(range(4,18,1))), 'academic_calender'] = 1 # easter vacation"
      ],
      "metadata": {
        "id": "A0Ap-VobY0ip"
      },
      "execution_count": null,
      "outputs": []
    },
    {
      "cell_type": "markdown",
      "source": [
        "**Note:** When training a decision tree the input variables need to be numerical. Currently, variables such as hour, day and month are encoded in an acyclic way but in reality they are cyclical (december is close to january but the model now only sees 12 and 1 which are far away from each other). Hence we transform these variables into cyclical variables. "
      ],
      "metadata": {
        "id": "xOxRx3s4cHKi"
      }
    },
    {
      "cell_type": "code",
      "source": [
        "# 2.1 Make cyclic variabels for hour (0,1,...,23), month (1,..,12) and dayOfWeek (0,...,6). This can be done by introducing two coordinates (x=cos(.),y=sin(.)):\n",
        "import math\n",
        "from sklearn.preprocessing import MinMaxScaler\n",
        "\n",
        "# We normalize 'hour', 'dayOfWeek' and 'Month' values to match with the 0-2π cycle\n",
        "# Create an instance of MinMaxScaler\n",
        "scaler = MinMaxScaler(feature_range=(0, 2*np.pi))\n",
        "\n",
        "# Fit and transform the data\n",
        "hours = merged['hour'].values.reshape(-1, 1)\n",
        "days = merged['dayOfWeek'].values.reshape(-1, 1)\n",
        "months = merged['month'].values.reshape(-1, 1)\n",
        "\n",
        "# take sin and cos and add to dataframe\n",
        "merged[\"cos_hour\"] = np.cos(scaler.fit_transform(hours))\n",
        "merged[\"sin_hour\"] = np.sin(scaler.fit_transform(hours))\n",
        "merged[\"cos_dayOfWeek\"] = np.cos(scaler.fit_transform(days))\n",
        "merged[\"sin_dayOfWeek\"] = np.sin(scaler.fit_transform(days))\n",
        "merged[\"cos_month\"] = np.cos(scaler.fit_transform(months))\n",
        "merged[\"sin_month\"] = np.sin(scaler.fit_transform(months))\n",
        "\n",
        "# We now have the options of choosing between acyclic or cyclical variables when training the model. \n",
        "cyclic_time = [\"cos_hour\", \"sin_hour\", \"cos_dayOfWeek\", \"sin_dayOfWeek\", \"cos_month\", \"sin_month\"]\n",
        "acyclic_time = [\"hour\", \"dayOfWeek\", \"month\"]"
      ],
      "metadata": {
        "id": "C4T81jWyc7kF"
      },
      "execution_count": null,
      "outputs": []
    },
    {
      "cell_type": "code",
      "source": [
        "# 3. OneHotEncode the column 'description'\n",
        "one_hot_encoded = pd.get_dummies(merged['description'], prefix='location')\n",
        "\n",
        "# Concatenate the one-hot encoded columns with the original DataFrame\n",
        "merged = pd.concat([merged, one_hot_encoded], axis=1)\n",
        "merged.head()\n"
      ],
      "metadata": {
        "colab": {
          "base_uri": "https://localhost:8080/",
          "height": 455
        },
        "id": "XhHuzG85dOE2",
        "outputId": "890a1e29-4950-42e0-b965-06008fb829cb"
      },
      "execution_count": null,
      "outputs": [
        {
          "output_type": "execute_result",
          "data": {
            "text/plain": [
              "                    DATEUTC  LC_HUMIDITY  LC_DWPTEMP     LC_RAD  LC_RAININ  \\\n",
              "0 2022-01-07 17:00:00+01:00    92.250000    1.642917   0.125000   0.000021   \n",
              "1 2022-01-09 22:00:00+01:00    93.954545    0.514545   0.090909   0.000000   \n",
              "2 2022-01-10 11:00:00+01:00    97.723404   -0.529574  43.702128   0.000000   \n",
              "3 2022-01-11 09:00:00+01:00    92.553191   -0.800000   3.531915   0.000000   \n",
              "4 2022-01-12 07:00:00+01:00    90.063830    0.456809   0.085106   0.000043   \n",
              "\n",
              "   LC_DAILYRAIN   LC_RAD60   AV_TEMP  LC_WINDDIR  LC_WINDSPEED  ...  \\\n",
              "0      0.004667   8.645833  2.753157  -10.571429      0.081429  ...   \n",
              "1      0.005909   0.086957  1.369592   -9.428571      0.000000  ...   \n",
              "2      0.000021  29.638298 -0.248377  -40.142857      0.055714  ...   \n",
              "3      0.000000   0.085106  0.271255   35.285714      0.054286  ...   \n",
              "4      0.000000   0.085106  1.907448  -31.285714      0.017143  ...   \n",
              "\n",
              "  sin_dayOfWeek  cos_month sin_month  location_MP 01: Naamsestraat 35  Maxim  \\\n",
              "0 -8.660254e-01        1.0       0.0                                       0   \n",
              "1 -2.449294e-16        1.0       0.0                                       0   \n",
              "2  0.000000e+00        1.0       0.0                                       0   \n",
              "3  8.660254e-01        1.0       0.0                                       0   \n",
              "4  8.660254e-01        1.0       0.0                                       0   \n",
              "\n",
              "   location_MP 02: Naamsestraat 57 Xior  \\\n",
              "0                                     0   \n",
              "1                                     0   \n",
              "2                                     0   \n",
              "3                                     0   \n",
              "4                                     0   \n",
              "\n",
              "   location_MP 03: Naamsestraat 62 Taste  \\\n",
              "0                                      1   \n",
              "1                                      1   \n",
              "2                                      1   \n",
              "3                                      1   \n",
              "4                                      1   \n",
              "\n",
              "   location_MP 05: Calvariekapel KU Leuven  \\\n",
              "0                                        0   \n",
              "1                                        0   \n",
              "2                                        0   \n",
              "3                                        0   \n",
              "4                                        0   \n",
              "\n",
              "   location_MP 06: Parkstraat 2 La Filosovia  location_MP 07: Naamsestraat 81  \\\n",
              "0                                          0                                0   \n",
              "1                                          0                                0   \n",
              "2                                          0                                0   \n",
              "3                                          0                                0   \n",
              "4                                          0                                0   \n",
              "\n",
              "   location_MP08bis - Vrijthof  \n",
              "0                            0  \n",
              "1                            0  \n",
              "2                            0  \n",
              "3                            0  \n",
              "4                            0  \n",
              "\n",
              "[5 rows x 36 columns]"
            ],
            "text/html": [
              "\n",
              "  <div id=\"df-8dc32d9a-a74d-48d5-adc0-87c349ab4c43\">\n",
              "    <div class=\"colab-df-container\">\n",
              "      <div>\n",
              "<style scoped>\n",
              "    .dataframe tbody tr th:only-of-type {\n",
              "        vertical-align: middle;\n",
              "    }\n",
              "\n",
              "    .dataframe tbody tr th {\n",
              "        vertical-align: top;\n",
              "    }\n",
              "\n",
              "    .dataframe thead th {\n",
              "        text-align: right;\n",
              "    }\n",
              "</style>\n",
              "<table border=\"1\" class=\"dataframe\">\n",
              "  <thead>\n",
              "    <tr style=\"text-align: right;\">\n",
              "      <th></th>\n",
              "      <th>DATEUTC</th>\n",
              "      <th>LC_HUMIDITY</th>\n",
              "      <th>LC_DWPTEMP</th>\n",
              "      <th>LC_RAD</th>\n",
              "      <th>LC_RAININ</th>\n",
              "      <th>LC_DAILYRAIN</th>\n",
              "      <th>LC_RAD60</th>\n",
              "      <th>AV_TEMP</th>\n",
              "      <th>LC_WINDDIR</th>\n",
              "      <th>LC_WINDSPEED</th>\n",
              "      <th>...</th>\n",
              "      <th>sin_dayOfWeek</th>\n",
              "      <th>cos_month</th>\n",
              "      <th>sin_month</th>\n",
              "      <th>location_MP 01: Naamsestraat 35  Maxim</th>\n",
              "      <th>location_MP 02: Naamsestraat 57 Xior</th>\n",
              "      <th>location_MP 03: Naamsestraat 62 Taste</th>\n",
              "      <th>location_MP 05: Calvariekapel KU Leuven</th>\n",
              "      <th>location_MP 06: Parkstraat 2 La Filosovia</th>\n",
              "      <th>location_MP 07: Naamsestraat 81</th>\n",
              "      <th>location_MP08bis - Vrijthof</th>\n",
              "    </tr>\n",
              "  </thead>\n",
              "  <tbody>\n",
              "    <tr>\n",
              "      <th>0</th>\n",
              "      <td>2022-01-07 17:00:00+01:00</td>\n",
              "      <td>92.250000</td>\n",
              "      <td>1.642917</td>\n",
              "      <td>0.125000</td>\n",
              "      <td>0.000021</td>\n",
              "      <td>0.004667</td>\n",
              "      <td>8.645833</td>\n",
              "      <td>2.753157</td>\n",
              "      <td>-10.571429</td>\n",
              "      <td>0.081429</td>\n",
              "      <td>...</td>\n",
              "      <td>-8.660254e-01</td>\n",
              "      <td>1.0</td>\n",
              "      <td>0.0</td>\n",
              "      <td>0</td>\n",
              "      <td>0</td>\n",
              "      <td>1</td>\n",
              "      <td>0</td>\n",
              "      <td>0</td>\n",
              "      <td>0</td>\n",
              "      <td>0</td>\n",
              "    </tr>\n",
              "    <tr>\n",
              "      <th>1</th>\n",
              "      <td>2022-01-09 22:00:00+01:00</td>\n",
              "      <td>93.954545</td>\n",
              "      <td>0.514545</td>\n",
              "      <td>0.090909</td>\n",
              "      <td>0.000000</td>\n",
              "      <td>0.005909</td>\n",
              "      <td>0.086957</td>\n",
              "      <td>1.369592</td>\n",
              "      <td>-9.428571</td>\n",
              "      <td>0.000000</td>\n",
              "      <td>...</td>\n",
              "      <td>-2.449294e-16</td>\n",
              "      <td>1.0</td>\n",
              "      <td>0.0</td>\n",
              "      <td>0</td>\n",
              "      <td>0</td>\n",
              "      <td>1</td>\n",
              "      <td>0</td>\n",
              "      <td>0</td>\n",
              "      <td>0</td>\n",
              "      <td>0</td>\n",
              "    </tr>\n",
              "    <tr>\n",
              "      <th>2</th>\n",
              "      <td>2022-01-10 11:00:00+01:00</td>\n",
              "      <td>97.723404</td>\n",
              "      <td>-0.529574</td>\n",
              "      <td>43.702128</td>\n",
              "      <td>0.000000</td>\n",
              "      <td>0.000021</td>\n",
              "      <td>29.638298</td>\n",
              "      <td>-0.248377</td>\n",
              "      <td>-40.142857</td>\n",
              "      <td>0.055714</td>\n",
              "      <td>...</td>\n",
              "      <td>0.000000e+00</td>\n",
              "      <td>1.0</td>\n",
              "      <td>0.0</td>\n",
              "      <td>0</td>\n",
              "      <td>0</td>\n",
              "      <td>1</td>\n",
              "      <td>0</td>\n",
              "      <td>0</td>\n",
              "      <td>0</td>\n",
              "      <td>0</td>\n",
              "    </tr>\n",
              "    <tr>\n",
              "      <th>3</th>\n",
              "      <td>2022-01-11 09:00:00+01:00</td>\n",
              "      <td>92.553191</td>\n",
              "      <td>-0.800000</td>\n",
              "      <td>3.531915</td>\n",
              "      <td>0.000000</td>\n",
              "      <td>0.000000</td>\n",
              "      <td>0.085106</td>\n",
              "      <td>0.271255</td>\n",
              "      <td>35.285714</td>\n",
              "      <td>0.054286</td>\n",
              "      <td>...</td>\n",
              "      <td>8.660254e-01</td>\n",
              "      <td>1.0</td>\n",
              "      <td>0.0</td>\n",
              "      <td>0</td>\n",
              "      <td>0</td>\n",
              "      <td>1</td>\n",
              "      <td>0</td>\n",
              "      <td>0</td>\n",
              "      <td>0</td>\n",
              "      <td>0</td>\n",
              "    </tr>\n",
              "    <tr>\n",
              "      <th>4</th>\n",
              "      <td>2022-01-12 07:00:00+01:00</td>\n",
              "      <td>90.063830</td>\n",
              "      <td>0.456809</td>\n",
              "      <td>0.085106</td>\n",
              "      <td>0.000043</td>\n",
              "      <td>0.000000</td>\n",
              "      <td>0.085106</td>\n",
              "      <td>1.907448</td>\n",
              "      <td>-31.285714</td>\n",
              "      <td>0.017143</td>\n",
              "      <td>...</td>\n",
              "      <td>8.660254e-01</td>\n",
              "      <td>1.0</td>\n",
              "      <td>0.0</td>\n",
              "      <td>0</td>\n",
              "      <td>0</td>\n",
              "      <td>1</td>\n",
              "      <td>0</td>\n",
              "      <td>0</td>\n",
              "      <td>0</td>\n",
              "      <td>0</td>\n",
              "    </tr>\n",
              "  </tbody>\n",
              "</table>\n",
              "<p>5 rows × 36 columns</p>\n",
              "</div>\n",
              "      <button class=\"colab-df-convert\" onclick=\"convertToInteractive('df-8dc32d9a-a74d-48d5-adc0-87c349ab4c43')\"\n",
              "              title=\"Convert this dataframe to an interactive table.\"\n",
              "              style=\"display:none;\">\n",
              "        \n",
              "  <svg xmlns=\"http://www.w3.org/2000/svg\" height=\"24px\"viewBox=\"0 0 24 24\"\n",
              "       width=\"24px\">\n",
              "    <path d=\"M0 0h24v24H0V0z\" fill=\"none\"/>\n",
              "    <path d=\"M18.56 5.44l.94 2.06.94-2.06 2.06-.94-2.06-.94-.94-2.06-.94 2.06-2.06.94zm-11 1L8.5 8.5l.94-2.06 2.06-.94-2.06-.94L8.5 2.5l-.94 2.06-2.06.94zm10 10l.94 2.06.94-2.06 2.06-.94-2.06-.94-.94-2.06-.94 2.06-2.06.94z\"/><path d=\"M17.41 7.96l-1.37-1.37c-.4-.4-.92-.59-1.43-.59-.52 0-1.04.2-1.43.59L10.3 9.45l-7.72 7.72c-.78.78-.78 2.05 0 2.83L4 21.41c.39.39.9.59 1.41.59.51 0 1.02-.2 1.41-.59l7.78-7.78 2.81-2.81c.8-.78.8-2.07 0-2.86zM5.41 20L4 18.59l7.72-7.72 1.47 1.35L5.41 20z\"/>\n",
              "  </svg>\n",
              "      </button>\n",
              "      \n",
              "  <style>\n",
              "    .colab-df-container {\n",
              "      display:flex;\n",
              "      flex-wrap:wrap;\n",
              "      gap: 12px;\n",
              "    }\n",
              "\n",
              "    .colab-df-convert {\n",
              "      background-color: #E8F0FE;\n",
              "      border: none;\n",
              "      border-radius: 50%;\n",
              "      cursor: pointer;\n",
              "      display: none;\n",
              "      fill: #1967D2;\n",
              "      height: 32px;\n",
              "      padding: 0 0 0 0;\n",
              "      width: 32px;\n",
              "    }\n",
              "\n",
              "    .colab-df-convert:hover {\n",
              "      background-color: #E2EBFA;\n",
              "      box-shadow: 0px 1px 2px rgba(60, 64, 67, 0.3), 0px 1px 3px 1px rgba(60, 64, 67, 0.15);\n",
              "      fill: #174EA6;\n",
              "    }\n",
              "\n",
              "    [theme=dark] .colab-df-convert {\n",
              "      background-color: #3B4455;\n",
              "      fill: #D2E3FC;\n",
              "    }\n",
              "\n",
              "    [theme=dark] .colab-df-convert:hover {\n",
              "      background-color: #434B5C;\n",
              "      box-shadow: 0px 1px 3px 1px rgba(0, 0, 0, 0.15);\n",
              "      filter: drop-shadow(0px 1px 2px rgba(0, 0, 0, 0.3));\n",
              "      fill: #FFFFFF;\n",
              "    }\n",
              "  </style>\n",
              "\n",
              "      <script>\n",
              "        const buttonEl =\n",
              "          document.querySelector('#df-8dc32d9a-a74d-48d5-adc0-87c349ab4c43 button.colab-df-convert');\n",
              "        buttonEl.style.display =\n",
              "          google.colab.kernel.accessAllowed ? 'block' : 'none';\n",
              "\n",
              "        async function convertToInteractive(key) {\n",
              "          const element = document.querySelector('#df-8dc32d9a-a74d-48d5-adc0-87c349ab4c43');\n",
              "          const dataTable =\n",
              "            await google.colab.kernel.invokeFunction('convertToInteractive',\n",
              "                                                     [key], {});\n",
              "          if (!dataTable) return;\n",
              "\n",
              "          const docLinkHtml = 'Like what you see? Visit the ' +\n",
              "            '<a target=\"_blank\" href=https://colab.research.google.com/notebooks/data_table.ipynb>data table notebook</a>'\n",
              "            + ' to learn more about interactive tables.';\n",
              "          element.innerHTML = '';\n",
              "          dataTable['output_type'] = 'display_data';\n",
              "          await google.colab.output.renderOutput(dataTable, element);\n",
              "          const docLink = document.createElement('div');\n",
              "          docLink.innerHTML = docLinkHtml;\n",
              "          element.appendChild(docLink);\n",
              "        }\n",
              "      </script>\n",
              "    </div>\n",
              "  </div>\n",
              "  "
            ]
          },
          "metadata": {},
          "execution_count": 23
        }
      ]
    },
    {
      "cell_type": "code",
      "source": [
        "# 4. drop irrelevant columns\n",
        "meteo_export41 = merged.drop(['DATEUTC', 'description', 'certainty', 'day', 'LC_DAILYRAIN', 'LC_RAD'], axis = 1)"
      ],
      "metadata": {
        "id": "tenxAFzmdbrj"
      },
      "execution_count": null,
      "outputs": []
    },
    {
      "cell_type": "code",
      "source": [
        "# 5. Prepare datasets for learning\n",
        "\n",
        "X = meteo_export41.drop('noise_event', axis = 1)\n",
        "y = meteo_export41['noise_event']\n",
        "# Split the data in training (70%), validation (15%) and test (15%) \n",
        "X_train, X_test, y_train, y_test = train_test_split(X, y, test_size = 0.15, random_state = 23, stratify = y)\n",
        "X_train, X_val, y_train, y_val = train_test_split(X_train, y_train, test_size=0.176469, random_state=42)\n",
        "# 'random_state' is like a random seed to make sure we can reproduce results, 'stratify' makes sure that the original distr. of y is preserved.\n",
        "\n",
        "# Create train, test and validation with cyclic/acyclic variables so that we can compare models trained on one or the other. \n",
        "X_train_acyclic = X_train.drop(cyclic_time, axis = 1)\n",
        "X_test_acyclic = X_test.drop(cyclic_time, axis = 1)\n",
        "X_val_acyclic = X_val.drop(cyclic_time, axis = 1)\n",
        "\n",
        "X_train_cyclic = X_train.drop(acyclic_time, axis = 1)\n",
        "X_test_cyclic = X_test.drop(acyclic_time, axis = 1)\n",
        "X_val_cyclic = X_val.drop(acyclic_time, axis = 1)"
      ],
      "metadata": {
        "id": "WWy1sRR6_mzT"
      },
      "execution_count": null,
      "outputs": []
    },
    {
      "cell_type": "code",
      "source": [
        "# check\n",
        "y_train.value_counts()"
      ],
      "metadata": {
        "colab": {
          "base_uri": "https://localhost:8080/"
        },
        "id": "gaztXONRM_jh",
        "outputId": "464d4083-601e-4055-9c20-59fc5effe282"
      },
      "execution_count": null,
      "outputs": [
        {
          "output_type": "execute_result",
          "data": {
            "text/plain": [
              "Transport road - Passenger car    4119\n",
              "Human voice - Shouting             541\n",
              "Transport road - Siren             195\n",
              "Human voice - Singing              103\n",
              "Music non-amplified                 15\n",
              "Nature elements - Wind              12\n",
              "Name: noise_event, dtype: int64"
            ]
          },
          "metadata": {},
          "execution_count": 26
        }
      ]
    },
    {
      "cell_type": "markdown",
      "source": [
        "### **M1 : Naive Bayes** \n",
        "**Note:** Some models do not respond as well on the cyclical variables. To test this, each model will be fit twice: once on X_train with cyclical and once on X_train with acyclical variables."
      ],
      "metadata": {
        "id": "V1Xz-kj8-IUv"
      }
    },
    {
      "cell_type": "code",
      "source": [
        "from sklearn.naive_bayes import GaussianNB\n",
        "\n",
        "# NB trained on acyclic variables\n",
        "M1_acyclic = GaussianNB()\n",
        "M1_acyclic.fit(X_train_acyclic,y_train) \n",
        "\n",
        "# NB trained on cyclic variables\n",
        "M1_cyclic = GaussianNB()\n",
        "M1_cyclic.fit(X_train_cyclic,y_train) "
      ],
      "metadata": {
        "colab": {
          "base_uri": "https://localhost:8080/",
          "height": 74
        },
        "id": "mRBGu1bC_fig",
        "outputId": "a09fb8ac-dd8a-4a1c-cf5c-37526ce2dc07"
      },
      "execution_count": null,
      "outputs": [
        {
          "output_type": "execute_result",
          "data": {
            "text/plain": [
              "GaussianNB()"
            ],
            "text/html": [
              "<style>#sk-container-id-1 {color: black;background-color: white;}#sk-container-id-1 pre{padding: 0;}#sk-container-id-1 div.sk-toggleable {background-color: white;}#sk-container-id-1 label.sk-toggleable__label {cursor: pointer;display: block;width: 100%;margin-bottom: 0;padding: 0.3em;box-sizing: border-box;text-align: center;}#sk-container-id-1 label.sk-toggleable__label-arrow:before {content: \"▸\";float: left;margin-right: 0.25em;color: #696969;}#sk-container-id-1 label.sk-toggleable__label-arrow:hover:before {color: black;}#sk-container-id-1 div.sk-estimator:hover label.sk-toggleable__label-arrow:before {color: black;}#sk-container-id-1 div.sk-toggleable__content {max-height: 0;max-width: 0;overflow: hidden;text-align: left;background-color: #f0f8ff;}#sk-container-id-1 div.sk-toggleable__content pre {margin: 0.2em;color: black;border-radius: 0.25em;background-color: #f0f8ff;}#sk-container-id-1 input.sk-toggleable__control:checked~div.sk-toggleable__content {max-height: 200px;max-width: 100%;overflow: auto;}#sk-container-id-1 input.sk-toggleable__control:checked~label.sk-toggleable__label-arrow:before {content: \"▾\";}#sk-container-id-1 div.sk-estimator input.sk-toggleable__control:checked~label.sk-toggleable__label {background-color: #d4ebff;}#sk-container-id-1 div.sk-label input.sk-toggleable__control:checked~label.sk-toggleable__label {background-color: #d4ebff;}#sk-container-id-1 input.sk-hidden--visually {border: 0;clip: rect(1px 1px 1px 1px);clip: rect(1px, 1px, 1px, 1px);height: 1px;margin: -1px;overflow: hidden;padding: 0;position: absolute;width: 1px;}#sk-container-id-1 div.sk-estimator {font-family: monospace;background-color: #f0f8ff;border: 1px dotted black;border-radius: 0.25em;box-sizing: border-box;margin-bottom: 0.5em;}#sk-container-id-1 div.sk-estimator:hover {background-color: #d4ebff;}#sk-container-id-1 div.sk-parallel-item::after {content: \"\";width: 100%;border-bottom: 1px solid gray;flex-grow: 1;}#sk-container-id-1 div.sk-label:hover label.sk-toggleable__label {background-color: #d4ebff;}#sk-container-id-1 div.sk-serial::before {content: \"\";position: absolute;border-left: 1px solid gray;box-sizing: border-box;top: 0;bottom: 0;left: 50%;z-index: 0;}#sk-container-id-1 div.sk-serial {display: flex;flex-direction: column;align-items: center;background-color: white;padding-right: 0.2em;padding-left: 0.2em;position: relative;}#sk-container-id-1 div.sk-item {position: relative;z-index: 1;}#sk-container-id-1 div.sk-parallel {display: flex;align-items: stretch;justify-content: center;background-color: white;position: relative;}#sk-container-id-1 div.sk-item::before, #sk-container-id-1 div.sk-parallel-item::before {content: \"\";position: absolute;border-left: 1px solid gray;box-sizing: border-box;top: 0;bottom: 0;left: 50%;z-index: -1;}#sk-container-id-1 div.sk-parallel-item {display: flex;flex-direction: column;z-index: 1;position: relative;background-color: white;}#sk-container-id-1 div.sk-parallel-item:first-child::after {align-self: flex-end;width: 50%;}#sk-container-id-1 div.sk-parallel-item:last-child::after {align-self: flex-start;width: 50%;}#sk-container-id-1 div.sk-parallel-item:only-child::after {width: 0;}#sk-container-id-1 div.sk-dashed-wrapped {border: 1px dashed gray;margin: 0 0.4em 0.5em 0.4em;box-sizing: border-box;padding-bottom: 0.4em;background-color: white;}#sk-container-id-1 div.sk-label label {font-family: monospace;font-weight: bold;display: inline-block;line-height: 1.2em;}#sk-container-id-1 div.sk-label-container {text-align: center;}#sk-container-id-1 div.sk-container {/* jupyter's `normalize.less` sets `[hidden] { display: none; }` but bootstrap.min.css set `[hidden] { display: none !important; }` so we also need the `!important` here to be able to override the default hidden behavior on the sphinx rendered scikit-learn.org. See: https://github.com/scikit-learn/scikit-learn/issues/21755 */display: inline-block !important;position: relative;}#sk-container-id-1 div.sk-text-repr-fallback {display: none;}</style><div id=\"sk-container-id-1\" class=\"sk-top-container\"><div class=\"sk-text-repr-fallback\"><pre>GaussianNB()</pre><b>In a Jupyter environment, please rerun this cell to show the HTML representation or trust the notebook. <br />On GitHub, the HTML representation is unable to render, please try loading this page with nbviewer.org.</b></div><div class=\"sk-container\" hidden><div class=\"sk-item\"><div class=\"sk-estimator sk-toggleable\"><input class=\"sk-toggleable__control sk-hidden--visually\" id=\"sk-estimator-id-1\" type=\"checkbox\" checked><label for=\"sk-estimator-id-1\" class=\"sk-toggleable__label sk-toggleable__label-arrow\">GaussianNB</label><div class=\"sk-toggleable__content\"><pre>GaussianNB()</pre></div></div></div></div></div>"
            ]
          },
          "metadata": {},
          "execution_count": 27
        }
      ]
    },
    {
      "cell_type": "markdown",
      "source": [
        "### **M2: Decision tree**"
      ],
      "metadata": {
        "id": "bmOkMndCBXhR"
      }
    },
    {
      "cell_type": "code",
      "source": [
        "# model based on the original (acyclical) variables\n",
        "M2_acyc = tree.DecisionTreeClassifier(random_state = 23)\n",
        "M2_acyc = M2_acyc.fit(X_train_acyclic,y_train)\n",
        "\n",
        "# model based on the cyclical variables\n",
        "M2_cyc = tree.DecisionTreeClassifier(random_state = 23)\n",
        "M2_cyc = M2_cyc.fit(X_train_cyclic,y_train)"
      ],
      "metadata": {
        "id": "sXmkB-_0Cmfd"
      },
      "execution_count": null,
      "outputs": []
    },
    {
      "cell_type": "markdown",
      "source": [
        "**Note1:** we do not scale the training data, this is not needed for the training of a desicion tree. <br> **Note2:** The train_test_split() does not automatically ensure a balanced training sample based on the occurrence of different categories in the original dataset. By default, it performs a random split of the data into training and testing sets, preserving the proportion of samples in each class. Since we have severy imbalance in the data, as a test, we will check the performance of a model trained on a balanced training set. "
      ],
      "metadata": {
        "id": "Owjz4iNxDCUk"
      }
    },
    {
      "cell_type": "code",
      "source": [
        "# balance out the categories in the training set by using over- and undersampling techniques\n",
        "oversample = SMOTE()\n",
        "undersample = RandomUnderSampler()\n",
        "steps = [(\"o\", oversample), (\"u\", undersample)]\n",
        "pipeline = Pipeline(steps=steps)\n",
        "# transform the training data \n",
        "X_train_acyclic_B, y_train_acyclic_B = pipeline.fit_resample(X_train_acyclic, y_train)\n",
        "X_train_cyclic_B, y_train_cyclic_B = pipeline.fit_resample(X_train_cyclic, y_train)\n",
        "# count the distribution of the categories in the training data\n",
        "counter = Counter(y_train_acyclic_B)\n",
        "for k,v in counter.items():\n",
        "    dist = v/len(y_train_acyclic_B) * 100\n",
        "    print(f\"Class={k}, n={v} ({dist}%)\")"
      ],
      "metadata": {
        "colab": {
          "base_uri": "https://localhost:8080/"
        },
        "id": "2Sg2fiQQEVND",
        "outputId": "f7b145be-992f-4827-ef41-b407d9163d94"
      },
      "execution_count": null,
      "outputs": [
        {
          "output_type": "stream",
          "name": "stdout",
          "text": [
            "Class=Human voice - Shouting, n=4119 (16.666666666666664%)\n",
            "Class=Human voice - Singing, n=4119 (16.666666666666664%)\n",
            "Class=Music non-amplified, n=4119 (16.666666666666664%)\n",
            "Class=Nature elements - Wind, n=4119 (16.666666666666664%)\n",
            "Class=Transport road - Passenger car, n=4119 (16.666666666666664%)\n",
            "Class=Transport road - Siren, n=4119 (16.666666666666664%)\n"
          ]
        }
      ]
    },
    {
      "cell_type": "markdown",
      "source": [
        "**Note:** Do not use accuracy!! We have severy imbalance in the (categorical) response. Instead of accuracy we will use F1-score. It takes into account both precision and recall, providing a more balanced measure of the model's accuracy. For multiple classes F1 score can be calculated per class and then averaged using different methods (\"micro\", \"macro\" and \"weighted\") depending on the scenario."
      ],
      "metadata": {
        "id": "TRgLP-gDMwpN"
      }
    },
    {
      "cell_type": "code",
      "source": [
        "# NOTE: additionally in this step we also try a cross validation approach\n",
        "# acyclic\n",
        "M2_acyc_B = tree.DecisionTreeClassifier(random_state = 23)\n",
        "resultsM2_acyc_B = cross_validate(M2_acyc_B, X_train_acyclic_B, y_train_acyclic_B, cv=6, n_jobs = -1, scoring = \"f1_macro\", return_estimator=True)\n",
        "# cyclic\n",
        "M2_cyc_B = tree.DecisionTreeClassifier(random_state = 23)\n",
        "resultsM2_cyc_B = cross_validate(M2_cyc_B, X_train_cyclic_B, y_train_cyclic_B, cv=6, n_jobs = -1, scoring = \"f1_macro\", return_estimator=True)"
      ],
      "metadata": {
        "id": "kfNcjdkJE3uo"
      },
      "execution_count": null,
      "outputs": []
    },
    {
      "cell_type": "markdown",
      "source": [
        "**Note3:** F1 with macro-averaging is used to evaluate the cross validation models. This measure treats each class equally, regardless of the class distribution in the dataset!"
      ],
      "metadata": {
        "id": "vBr-Cv1uFZjF"
      }
    },
    {
      "cell_type": "code",
      "source": [
        "# Extract the model from the cross validation :\n",
        "# the CV gave us 6 models, to choose between them we will see how well they perform on the vaildation data\n",
        "acc2_cyc = list()\n",
        "acc2_acyc = list()\n",
        "# get a list of scores of the different models on the validation set\n",
        "for i in range(0,6):\n",
        "    model2_acyc = resultsM2_acyc_B['estimator'][i]\n",
        "    model2_cyc = resultsM2_cyc_B['estimator'][i]\n",
        "    acc2_acyc.append(f1_score(y_val, model2_acyc.predict(X_val_acyclic), average = \"macro\")) \n",
        "    acc2_cyc.append(f1_score(y_val, model2_cyc.predict(X_val_cyclic), average = \"macro\"))\n",
        "\n",
        "# choose models with the best validation score\n",
        "M2_acyc_B = resultsM2_acyc_B['estimator'][acc2_acyc.index(max(acc2_acyc))]\n",
        "M2_cyc_B = resultsM2_cyc_B['estimator'][acc2_cyc.index(max(acc2_cyc))]"
      ],
      "metadata": {
        "id": "nIQLY32sFkga"
      },
      "execution_count": null,
      "outputs": []
    },
    {
      "cell_type": "markdown",
      "source": [
        "**Note4:** Post pruning can improve performance of a decision tree, the tree that currently has the best score on the test set is M2_cyc, hence we will try pruning it to optimize its accuracy. "
      ],
      "metadata": {
        "id": "xvMtFUbxJZ0K"
      }
    },
    {
      "cell_type": "code",
      "source": [
        "# Find the optimal value of ccp_alpha using the validation set\n",
        "path = M2_cyc.cost_complexity_pruning_path(X_train_cyclic, y_train)\n",
        "ccp_alphas, impurities = path.ccp_alphas, path.impurities\n",
        "\n",
        "# one of the alphas was <0 we delete it from the array\n",
        "ccp_alphas = ccp_alphas[ccp_alphas >= 0]\n",
        "# we have 2700 alphas --> we need to make this array smaller because the program runs too long:\n",
        "last_alphas = ccp_alphas[-20:]\n",
        "first_alphas = ccp_alphas[:-20]\n",
        "# shrink the size of the first alphas by stepping over them with a stepsize = 10 --> we keep about 300 alphas\n",
        "first_alphas = first_alphas[::10]\n",
        "ccp_alphas = np.concatenate((first_alphas, last_alphas))\n",
        "\n",
        "# Evaluate the performance of the tree at different values of ccp_alpha\n",
        "F1_scores = []\n",
        "for ccp_alpha in ccp_alphas:\n",
        "    pruned_M2_cyc = DecisionTreeClassifier(random_state=23, ccp_alpha=ccp_alpha)\n",
        "    pruned_M2_cyc.fit(X_train_cyclic, y_train)\n",
        "    y_pred = pruned_M2_cyc.predict(X_val_cyclic)\n",
        "    F1_scores.append(f1_score(y_val, y_pred, average = \"weighted\"))\n",
        "\n",
        "# Select the optimal value of ccp_alpha based on the highest validation score\n",
        "best_ccp_alpha = ccp_alphas[np.argmax(F1_scores)]"
      ],
      "metadata": {
        "id": "fXQ7i6xjJZIN"
      },
      "execution_count": null,
      "outputs": []
    },
    {
      "cell_type": "code",
      "source": [
        "# Prune the decision tree using the optimal ccp_alpha\n",
        "pruned_M2_cyc = DecisionTreeClassifier(random_state=23, ccp_alpha=best_ccp_alpha)\n",
        "pruned_M2_cyc.fit(X_train_cyclic, y_train)"
      ],
      "metadata": {
        "id": "ES_vw43JKQO0",
        "colab": {
          "base_uri": "https://localhost:8080/",
          "height": 74
        },
        "outputId": "f8a5fcf7-051f-4bc8-d1df-b6c3551fa121"
      },
      "execution_count": null,
      "outputs": [
        {
          "output_type": "execute_result",
          "data": {
            "text/plain": [
              "DecisionTreeClassifier(ccp_alpha=0.00040698406382323505, random_state=23)"
            ],
            "text/html": [
              "<style>#sk-container-id-2 {color: black;background-color: white;}#sk-container-id-2 pre{padding: 0;}#sk-container-id-2 div.sk-toggleable {background-color: white;}#sk-container-id-2 label.sk-toggleable__label {cursor: pointer;display: block;width: 100%;margin-bottom: 0;padding: 0.3em;box-sizing: border-box;text-align: center;}#sk-container-id-2 label.sk-toggleable__label-arrow:before {content: \"▸\";float: left;margin-right: 0.25em;color: #696969;}#sk-container-id-2 label.sk-toggleable__label-arrow:hover:before {color: black;}#sk-container-id-2 div.sk-estimator:hover label.sk-toggleable__label-arrow:before {color: black;}#sk-container-id-2 div.sk-toggleable__content {max-height: 0;max-width: 0;overflow: hidden;text-align: left;background-color: #f0f8ff;}#sk-container-id-2 div.sk-toggleable__content pre {margin: 0.2em;color: black;border-radius: 0.25em;background-color: #f0f8ff;}#sk-container-id-2 input.sk-toggleable__control:checked~div.sk-toggleable__content {max-height: 200px;max-width: 100%;overflow: auto;}#sk-container-id-2 input.sk-toggleable__control:checked~label.sk-toggleable__label-arrow:before {content: \"▾\";}#sk-container-id-2 div.sk-estimator input.sk-toggleable__control:checked~label.sk-toggleable__label {background-color: #d4ebff;}#sk-container-id-2 div.sk-label input.sk-toggleable__control:checked~label.sk-toggleable__label {background-color: #d4ebff;}#sk-container-id-2 input.sk-hidden--visually {border: 0;clip: rect(1px 1px 1px 1px);clip: rect(1px, 1px, 1px, 1px);height: 1px;margin: -1px;overflow: hidden;padding: 0;position: absolute;width: 1px;}#sk-container-id-2 div.sk-estimator {font-family: monospace;background-color: #f0f8ff;border: 1px dotted black;border-radius: 0.25em;box-sizing: border-box;margin-bottom: 0.5em;}#sk-container-id-2 div.sk-estimator:hover {background-color: #d4ebff;}#sk-container-id-2 div.sk-parallel-item::after {content: \"\";width: 100%;border-bottom: 1px solid gray;flex-grow: 1;}#sk-container-id-2 div.sk-label:hover label.sk-toggleable__label {background-color: #d4ebff;}#sk-container-id-2 div.sk-serial::before {content: \"\";position: absolute;border-left: 1px solid gray;box-sizing: border-box;top: 0;bottom: 0;left: 50%;z-index: 0;}#sk-container-id-2 div.sk-serial {display: flex;flex-direction: column;align-items: center;background-color: white;padding-right: 0.2em;padding-left: 0.2em;position: relative;}#sk-container-id-2 div.sk-item {position: relative;z-index: 1;}#sk-container-id-2 div.sk-parallel {display: flex;align-items: stretch;justify-content: center;background-color: white;position: relative;}#sk-container-id-2 div.sk-item::before, #sk-container-id-2 div.sk-parallel-item::before {content: \"\";position: absolute;border-left: 1px solid gray;box-sizing: border-box;top: 0;bottom: 0;left: 50%;z-index: -1;}#sk-container-id-2 div.sk-parallel-item {display: flex;flex-direction: column;z-index: 1;position: relative;background-color: white;}#sk-container-id-2 div.sk-parallel-item:first-child::after {align-self: flex-end;width: 50%;}#sk-container-id-2 div.sk-parallel-item:last-child::after {align-self: flex-start;width: 50%;}#sk-container-id-2 div.sk-parallel-item:only-child::after {width: 0;}#sk-container-id-2 div.sk-dashed-wrapped {border: 1px dashed gray;margin: 0 0.4em 0.5em 0.4em;box-sizing: border-box;padding-bottom: 0.4em;background-color: white;}#sk-container-id-2 div.sk-label label {font-family: monospace;font-weight: bold;display: inline-block;line-height: 1.2em;}#sk-container-id-2 div.sk-label-container {text-align: center;}#sk-container-id-2 div.sk-container {/* jupyter's `normalize.less` sets `[hidden] { display: none; }` but bootstrap.min.css set `[hidden] { display: none !important; }` so we also need the `!important` here to be able to override the default hidden behavior on the sphinx rendered scikit-learn.org. See: https://github.com/scikit-learn/scikit-learn/issues/21755 */display: inline-block !important;position: relative;}#sk-container-id-2 div.sk-text-repr-fallback {display: none;}</style><div id=\"sk-container-id-2\" class=\"sk-top-container\"><div class=\"sk-text-repr-fallback\"><pre>DecisionTreeClassifier(ccp_alpha=0.00040698406382323505, random_state=23)</pre><b>In a Jupyter environment, please rerun this cell to show the HTML representation or trust the notebook. <br />On GitHub, the HTML representation is unable to render, please try loading this page with nbviewer.org.</b></div><div class=\"sk-container\" hidden><div class=\"sk-item\"><div class=\"sk-estimator sk-toggleable\"><input class=\"sk-toggleable__control sk-hidden--visually\" id=\"sk-estimator-id-2\" type=\"checkbox\" checked><label for=\"sk-estimator-id-2\" class=\"sk-toggleable__label sk-toggleable__label-arrow\">DecisionTreeClassifier</label><div class=\"sk-toggleable__content\"><pre>DecisionTreeClassifier(ccp_alpha=0.00040698406382323505, random_state=23)</pre></div></div></div></div></div>"
            ]
          },
          "metadata": {},
          "execution_count": 33
        }
      ]
    },
    {
      "cell_type": "markdown",
      "source": [
        "### **M3: RandomForestClassifier**\n",
        "From the decision trees (M2) we already observed a better performance of the models trained on the cyclic variables. Since the RandomForestClassifier is a compilation of decision trees, we will immediately fit it on the cyclical training set. "
      ],
      "metadata": {
        "id": "L-J0TJzyKmES"
      }
    },
    {
      "cell_type": "code",
      "source": [
        "### PARAMETER TUNING \n",
        "## Optimal_depth:\n",
        "# (optimal_depth = 18, but increasing it can still improve the model)\n",
        "max_depths = np.linspace(1, 50, 50, endpoint=True)\n",
        "train_results = []\n",
        "test_results = []\n",
        "for max_depth in max_depths:\n",
        "    rf = RandomForestClassifier(max_depth=int(max_depth), n_jobs=-1)\n",
        "    rf.fit(X_train_cyclic, y_train)\n",
        "    train_pred = rf.predict(X_train_cyclic)\n",
        "    train_score = f1_score(y_train, train_pred, average = \"weighted\")\n",
        "    train_results.append(train_score)\n",
        "    y_pred = rf.predict(X_val_cyclic)\n",
        "    test_score = f1_score(y_val, y_pred, average = \"weighted\")\n",
        "    test_results.append(test_score)\n",
        "    \n",
        "from matplotlib.legend_handler import HandlerLine2D\n",
        "line1, = plt.plot(max_depths, train_results, \"b\", label=\"Train set results\")\n",
        "line2, = plt.plot(max_depths, test_results, \"r\", label=\"Validation set results\")\n",
        "plt.legend(handler_map={line1: HandlerLine2D(numpoints=2)})\n",
        "plt.ylabel(\"f1_scores\")\n",
        "plt.xlabel(\"Tree depth\")\n",
        "plt.show()"
      ],
      "metadata": {
        "id": "gOVhqf2Legif",
        "colab": {
          "base_uri": "https://localhost:8080/",
          "height": 449
        },
        "outputId": "63b0b4e1-89c2-44af-a82e-43faacba75f0"
      },
      "execution_count": null,
      "outputs": [
        {
          "output_type": "display_data",
          "data": {
            "text/plain": [
              "<Figure size 640x480 with 1 Axes>"
            ],
            "image/png": "[encoded data removed]"
          },
          "metadata": {}
        }
      ]
    },
    {
      "cell_type": "code",
      "source": [
        "optimal_depth = 20"
      ],
      "metadata": {
        "id": "tNYcspNKf0m-"
      },
      "execution_count": null,
      "outputs": []
    },
    {
      "cell_type": "code",
      "source": [
        "## Optimal number of trees (n)\n",
        "# (optimal_n = 20)\n",
        "n_estimators = [1, 2, 4, 8, 12, 16, 20, 24, 28, 32, 64]\n",
        "train_results = []\n",
        "test_results = []\n",
        "for estimator in n_estimators:\n",
        "    rf = RandomForestClassifier(n_estimators = estimator, max_depth=optimal_depth, n_jobs=-1)\n",
        "    rf.fit(X_train_cyclic, y_train)\n",
        "    train_pred = rf.predict(X_train_cyclic)\n",
        "    train_score = f1_score(y_train, train_pred, average = \"weighted\")\n",
        "    train_results.append(train_score)\n",
        "    y_pred = rf.predict(X_val_cyclic)\n",
        "    test_score = f1_score(y_val, y_pred, average = \"weighted\")\n",
        "    test_results.append(test_score)\n",
        "    \n",
        "from matplotlib.legend_handler import HandlerLine2D\n",
        "line1, = plt.plot(n_estimators, train_results, \"b\", label=\"train data results\")\n",
        "line2, = plt.plot(n_estimators, test_results, \"r\", label=\"Validation data results\")\n",
        "plt.legend(handler_map={line1: HandlerLine2D(numpoints=2)})\n",
        "plt.ylabel(\"f1_scores\")\n",
        "plt.xlabel(\"number of trees\")\n",
        "plt.show()"
      ],
      "metadata": {
        "id": "kVf2Hdt2f5-S",
        "colab": {
          "base_uri": "https://localhost:8080/",
          "height": 449
        },
        "outputId": "34fda8a0-f2d1-4e3d-9cd1-f0ae054ddacb"
      },
      "execution_count": null,
      "outputs": [
        {
          "output_type": "display_data",
          "data": {
            "text/plain": [
              "<Figure size 640x480 with 1 Axes>"
            ],
            "image/png": "[encoded data removed]"
          },
          "metadata": {}
        }
      ]
    },
    {
      "cell_type": "code",
      "source": [
        "optimal_n = 22"
      ],
      "metadata": {
        "id": "iDijEHWOgMLY"
      },
      "execution_count": null,
      "outputs": []
    },
    {
      "cell_type": "code",
      "source": [
        "# model trained on cyclical variables\n",
        "forest_cyclic = RandomForestClassifier(max_depth = optimal_depth, n_estimators = optimal_n, max_features = \"sqrt\", random_state=24) # add max_depth !!\n",
        "forest_cyclic.fit(X_train_cyclic, y_train)"
      ],
      "metadata": {
        "id": "Af9IvYQpgPC-",
        "colab": {
          "base_uri": "https://localhost:8080/",
          "height": 74
        },
        "outputId": "47be4669-33a5-4c3b-e743-147c71ba8116"
      },
      "execution_count": null,
      "outputs": [
        {
          "output_type": "execute_result",
          "data": {
            "text/plain": [
              "RandomForestClassifier(max_depth=20, n_estimators=22, random_state=24)"
            ],
            "text/html": [
              "<style>#sk-container-id-3 {color: black;background-color: white;}#sk-container-id-3 pre{padding: 0;}#sk-container-id-3 div.sk-toggleable {background-color: white;}#sk-container-id-3 label.sk-toggleable__label {cursor: pointer;display: block;width: 100%;margin-bottom: 0;padding: 0.3em;box-sizing: border-box;text-align: center;}#sk-container-id-3 label.sk-toggleable__label-arrow:before {content: \"▸\";float: left;margin-right: 0.25em;color: #696969;}#sk-container-id-3 label.sk-toggleable__label-arrow:hover:before {color: black;}#sk-container-id-3 div.sk-estimator:hover label.sk-toggleable__label-arrow:before {color: black;}#sk-container-id-3 div.sk-toggleable__content {max-height: 0;max-width: 0;overflow: hidden;text-align: left;background-color: #f0f8ff;}#sk-container-id-3 div.sk-toggleable__content pre {margin: 0.2em;color: black;border-radius: 0.25em;background-color: #f0f8ff;}#sk-container-id-3 input.sk-toggleable__control:checked~div.sk-toggleable__content {max-height: 200px;max-width: 100%;overflow: auto;}#sk-container-id-3 input.sk-toggleable__control:checked~label.sk-toggleable__label-arrow:before {content: \"▾\";}#sk-container-id-3 div.sk-estimator input.sk-toggleable__control:checked~label.sk-toggleable__label {background-color: #d4ebff;}#sk-container-id-3 div.sk-label input.sk-toggleable__control:checked~label.sk-toggleable__label {background-color: #d4ebff;}#sk-container-id-3 input.sk-hidden--visually {border: 0;clip: rect(1px 1px 1px 1px);clip: rect(1px, 1px, 1px, 1px);height: 1px;margin: -1px;overflow: hidden;padding: 0;position: absolute;width: 1px;}#sk-container-id-3 div.sk-estimator {font-family: monospace;background-color: #f0f8ff;border: 1px dotted black;border-radius: 0.25em;box-sizing: border-box;margin-bottom: 0.5em;}#sk-container-id-3 div.sk-estimator:hover {background-color: #d4ebff;}#sk-container-id-3 div.sk-parallel-item::after {content: \"\";width: 100%;border-bottom: 1px solid gray;flex-grow: 1;}#sk-container-id-3 div.sk-label:hover label.sk-toggleable__label {background-color: #d4ebff;}#sk-container-id-3 div.sk-serial::before {content: \"\";position: absolute;border-left: 1px solid gray;box-sizing: border-box;top: 0;bottom: 0;left: 50%;z-index: 0;}#sk-container-id-3 div.sk-serial {display: flex;flex-direction: column;align-items: center;background-color: white;padding-right: 0.2em;padding-left: 0.2em;position: relative;}#sk-container-id-3 div.sk-item {position: relative;z-index: 1;}#sk-container-id-3 div.sk-parallel {display: flex;align-items: stretch;justify-content: center;background-color: white;position: relative;}#sk-container-id-3 div.sk-item::before, #sk-container-id-3 div.sk-parallel-item::before {content: \"\";position: absolute;border-left: 1px solid gray;box-sizing: border-box;top: 0;bottom: 0;left: 50%;z-index: -1;}#sk-container-id-3 div.sk-parallel-item {display: flex;flex-direction: column;z-index: 1;position: relative;background-color: white;}#sk-container-id-3 div.sk-parallel-item:first-child::after {align-self: flex-end;width: 50%;}#sk-container-id-3 div.sk-parallel-item:last-child::after {align-self: flex-start;width: 50%;}#sk-container-id-3 div.sk-parallel-item:only-child::after {width: 0;}#sk-container-id-3 div.sk-dashed-wrapped {border: 1px dashed gray;margin: 0 0.4em 0.5em 0.4em;box-sizing: border-box;padding-bottom: 0.4em;background-color: white;}#sk-container-id-3 div.sk-label label {font-family: monospace;font-weight: bold;display: inline-block;line-height: 1.2em;}#sk-container-id-3 div.sk-label-container {text-align: center;}#sk-container-id-3 div.sk-container {/* jupyter's `normalize.less` sets `[hidden] { display: none; }` but bootstrap.min.css set `[hidden] { display: none !important; }` so we also need the `!important` here to be able to override the default hidden behavior on the sphinx rendered scikit-learn.org. See: https://github.com/scikit-learn/scikit-learn/issues/21755 */display: inline-block !important;position: relative;}#sk-container-id-3 div.sk-text-repr-fallback {display: none;}</style><div id=\"sk-container-id-3\" class=\"sk-top-container\"><div class=\"sk-text-repr-fallback\"><pre>RandomForestClassifier(max_depth=20, n_estimators=22, random_state=24)</pre><b>In a Jupyter environment, please rerun this cell to show the HTML representation or trust the notebook. <br />On GitHub, the HTML representation is unable to render, please try loading this page with nbviewer.org.</b></div><div class=\"sk-container\" hidden><div class=\"sk-item\"><div class=\"sk-estimator sk-toggleable\"><input class=\"sk-toggleable__control sk-hidden--visually\" id=\"sk-estimator-id-3\" type=\"checkbox\" checked><label for=\"sk-estimator-id-3\" class=\"sk-toggleable__label sk-toggleable__label-arrow\">RandomForestClassifier</label><div class=\"sk-toggleable__content\"><pre>RandomForestClassifier(max_depth=20, n_estimators=22, random_state=24)</pre></div></div></div></div></div>"
            ]
          },
          "metadata": {},
          "execution_count": 38
        }
      ]
    },
    {
      "cell_type": "code",
      "source": [
        "### check performance on the TRAINING set for all models: ###\n",
        "# predicted values :\n",
        "pred_M1_cyclic = M1_cyclic.predict(X_train_cyclic)\n",
        "pred_M1_acyclic = M1_acyclic.predict(X_train_acyclic)\n",
        "pred_M2_cyc = M2_cyc.predict(X_train_cyclic)\n",
        "pred_M2_acyc = M2_acyc.predict(X_train_acyclic)\n",
        "pred_M2_cyc_B = M2_cyc_B.predict(X_train_cyclic)\n",
        "pred_M2_acyc_B = M2_acyc_B.predict(X_train_acyclic)\n",
        "pred_M2_pruned = pruned_M2_cyc.predict(X_train_cyclic)\n",
        "forest_cyclic_pred = forest_cyclic.predict(X_train_cyclic)\n",
        "\n",
        "# Calculate the scores:\n",
        "M1_cyclic_score = f1_score(y_train, pred_M1_cyclic, average = \"weighted\")\n",
        "M1_acyclic_score = f1_score(y_train, pred_M1_acyclic, average = \"weighted\")\n",
        "M2_cyc_score = f1_score(y_train, pred_M2_cyc, average = \"weighted\")\n",
        "M2_acyc_score = f1_score(y_train, pred_M2_acyc, average = \"weighted\")\n",
        "M2_cyc_B_score = f1_score(y_train, pred_M2_cyc_B, average = \"weighted\")\n",
        "M2_acyc_B_score = f1_score(y_train, pred_M2_acyc_B, average = \"weighted\")\n",
        "score_M2_pruned = f1_score(y_train, pred_M2_pruned, average = \"weighted\")\n",
        "f1_score_forest_cyclic = f1_score(y_train, forest_cyclic_pred, average = \"weighted\")\n",
        "\n",
        "print(\"Score of Naive Bayes model (cyclic) on train set:\", M1_cyclic_score)\n",
        "print(\"Score of Naive Bayes model (acyclic) on train set:\", M1_acyclic_score)\n",
        "print(\"Score of Decision tree (cyclical) on train set:\", M2_cyc_score)\n",
        "print(\"SCore of Decision tree (acyclical) on train set:\", M2_acyc_score)\n",
        "print(\"Score of Decision tree (cyclical and balanced) on train set:\", M2_cyc_B_score)\n",
        "print(\"Score of Decision tree (acyclical and balanced) on train set:\", M2_acyc_B_score)\n",
        "print(\"Score of pruned Decision tree (cyclic) on train set:\", score_M2_pruned)\n",
        "print(\"Score of randomForest model (cyclic) on train set:\", f1_score_forest_cyclic)"
      ],
      "metadata": {
        "id": "V2rU7hels3My",
        "colab": {
          "base_uri": "https://localhost:8080/"
        },
        "outputId": "855668da-7c81-4a58-a7a8-8d3f52668dcf"
      },
      "execution_count": null,
      "outputs": [
        {
          "output_type": "stream",
          "name": "stdout",
          "text": [
            "Score of Naive Bayes model (cyclic) on train set: 0.39607929270008285\n",
            "Score of Naive Bayes model (acyclic) on train set: 0.357078223095443\n",
            "Score of Decision tree (cyclical) on train set: 0.9714093666405819\n",
            "SCore of Decision tree (acyclical) on train set: 0.9714093666405819\n",
            "Score of Decision tree (cyclical and balanced) on train set: 0.9409466548901524\n",
            "Score of Decision tree (acyclical and balanced) on train set: 0.9391139666562995\n",
            "Score of pruned Decision tree (cyclic) on train set: 0.9036401184362852\n",
            "Score of randomForest model (cyclic) on train set: 0.9668650512571503\n"
          ]
        }
      ]
    },
    {
      "cell_type": "code",
      "source": [
        "### check performance on the TEST set for all models: ###\n",
        "# predicted values :\n",
        "pred_M1_cyclic = M1_cyclic.predict(X_test_cyclic)\n",
        "pred_M1_acyclic = M1_acyclic.predict(X_test_acyclic)\n",
        "pred_M2_cyc = M2_cyc.predict(X_test_cyclic)\n",
        "pred_M2_acyc = M2_acyc.predict(X_test_acyclic)\n",
        "pred_M2_cyc_B = M2_cyc_B.predict(X_test_cyclic)\n",
        "pred_M2_acyc_B = M2_acyc_B.predict(X_test_acyclic)\n",
        "pred_M2_pruned = pruned_M2_cyc.predict(X_test_cyclic)\n",
        "forest_cyclic_pred = forest_cyclic.predict(X_test_cyclic)\n",
        "\n",
        "# Calculate the scores:\n",
        "M1_cyclic_score = f1_score(y_test, pred_M1_cyclic, average = \"weighted\")\n",
        "M1_acyclic_score = f1_score(y_test, pred_M1_acyclic, average = \"weighted\")\n",
        "M2_cyc_score = f1_score(y_test, pred_M2_cyc, average = \"weighted\")\n",
        "M2_acyc_score = f1_score(y_test, pred_M2_acyc, average = \"weighted\")\n",
        "M2_cyc_B_score = f1_score(y_test, pred_M2_cyc_B, average = \"weighted\")\n",
        "M2_acyc_B_score = f1_score(y_test, pred_M2_acyc_B, average = \"weighted\")\n",
        "score_M2_pruned = f1_score(y_test, pred_M2_pruned, average = \"weighted\")\n",
        "f1_score_forest_cyclic = f1_score(y_test, forest_cyclic_pred, average = \"weighted\")\n",
        "\n",
        "print(\"Score of Naive Bayes model (cyclic) on test set:\", M1_cyclic_score)\n",
        "print(\"Score of Naive Bayes model (acyclic) on test set:\", M1_acyclic_score)\n",
        "print(\"Score of Decision tree (cyclical) on test set:\", M2_cyc_score)\n",
        "print(\"Score of Decision tree (acyclical) on test set:\", M2_acyc_score)\n",
        "print(\"Score of Decision tree (cyclical and balanced) on test set:\", M2_cyc_B_score)\n",
        "print(\"Score of Decision tree (acyclical and balanced) on test set:\", M2_acyc_B_score)\n",
        "print(\"Score of pruned Decision tree (cyclic) on test set:\", score_M2_pruned)\n",
        "print(\"Score of randomForest model (cyclic) on test set:\", f1_score_forest_cyclic)"
      ],
      "metadata": {
        "id": "MdoQUrgLgVh3",
        "colab": {
          "base_uri": "https://localhost:8080/"
        },
        "outputId": "1c69c326-ba5b-49b0-b8ca-709b483364ab"
      },
      "execution_count": null,
      "outputs": [
        {
          "output_type": "stream",
          "name": "stdout",
          "text": [
            "Score of Naive Bayes model (cyclic) on test set: 0.39052077330431634\n",
            "Score of Naive Bayes model (acyclic) on test set: 0.375231806162916\n",
            "Score of Decision tree (cyclical) on test set: 0.8156756600777292\n",
            "SCore of Decision tree (acyclical) on test set: 0.8196033977281505\n",
            "Score of Decision tree (cyclical and balanced) on test set: 0.7737567758241963\n",
            "Score of Decision tree (acyclical and balanced) on test set: 0.7843117453484421\n",
            "Score of pruned Decision tree (cyclic) on test set: 0.8304021002819878\n",
            "Score of randomForest model (cyclic) on test set: 0.8627689232046416\n"
          ]
        }
      ]
    },
    {
      "cell_type": "markdown",
      "source": [
        "**CONCLUSION:** RandomForestClassifier trained on the cyclical variables is the best model. \n",
        "\n"
      ],
      "metadata": {
        "id": "vbIEm1_kLYtN"
      }
    },
    {
      "cell_type": "code",
      "source": [
        "## (test) make single prediction for a new observation:\n",
        "# class_labels:\n",
        "class_labels_forest = forest_cyclic.classes_\n",
        "feature_names = X_train_cyclic.columns.tolist()  # Get the list of (cyclical) feature names\n",
        "x_new = X_test.iloc[3].drop(acyclic_time).values.reshape(1, -1) # extract x_new and convert to 2d array\n",
        "x_new = pd.DataFrame(x_new, columns=feature_names) # convert x_new (array) to a data frame with the correct feature names\n",
        "forest_cyclic.predict(x_new) # predicts category with the highest prob of occurance"
      ],
      "metadata": {
        "id": "JEbOZlgigjTx",
        "colab": {
          "base_uri": "https://localhost:8080/"
        },
        "outputId": "6144828d-24ed-4b12-9f85-50198836230a"
      },
      "execution_count": null,
      "outputs": [
        {
          "output_type": "execute_result",
          "data": {
            "text/plain": [
              "array(['Transport road - Passenger car'], dtype=object)"
            ]
          },
          "metadata": {},
          "execution_count": 41
        }
      ]
    },
    {
      "cell_type": "code",
      "source": [
        "## (test) predict probabilities for new observation:\n",
        "probas = forest_cyclic.predict_proba(x_new) # gives probability for all noise events\n",
        "# Create a dictionary to map binary values to categories\n",
        "prediction_mapping = dict(zip(range(len(class_labels_forest)), class_labels_forest))\n",
        "prediction_mapping[2]\n",
        "print(\"If there is a noise on (x_new) what are the probabilities of it being...\")\n",
        "for i in range(0, 6):\n",
        "    category_label = prediction_mapping[i]\n",
        "    percentage = round(probas[0][i]*100, 1)\n",
        "    print(category_label, \" :\", percentage, \"%\")"
      ],
      "metadata": {
        "id": "NmDmffiIgoP5",
        "colab": {
          "base_uri": "https://localhost:8080/"
        },
        "outputId": "c4ba27fb-7445-442c-832a-4ba98ab2d777"
      },
      "execution_count": null,
      "outputs": [
        {
          "output_type": "stream",
          "name": "stdout",
          "text": [
            "If there is a noise on (x_new) what are the probabilities of it being...\n",
            "Human voice - Shouting  : 0.6 %\n",
            "Human voice - Singing  : 0.0 %\n",
            "Music non-amplified  : 0.0 %\n",
            "Nature elements - Wind  : 0.0 %\n",
            "Transport road - Passenger car  : 99.4 %\n",
            "Transport road - Siren  : 0.0 %\n"
          ]
        }
      ]
    },
    {
      "cell_type": "markdown",
      "source": [
        "# **3. Encoders, decoders and regression models:**\n",
        "### **3.1 Encoding WINDDIR, RAININ and DATE:**"
      ],
      "metadata": {
        "id": "HQw1w8gUuosw"
      }
    },
    {
      "cell_type": "code",
      "source": [
        "### WINDDIR ###\n",
        "# Define the degree ranges and corresponding wind directions\n",
        "ranges = [0, 23, 68, 113, 158, 203, 248, 293, 338, 361]\n",
        "directions = ['N', 'NE', 'E', 'SE', 'S', 'SW', 'W', 'NW', 'N']\n",
        "to_degrees = [0, 45, 90, 135, 180, 225, 270, 315, 0]\n",
        "\n",
        "# Encoder for WINDDIR: (note: we actually don't need this...)\n",
        "def encode_WINDDIR(degrees):\n",
        "    # Normalize degrees to range between 0 and 360\n",
        "    degrees %= 360\n",
        "    # Encode:\n",
        "    if isinstance(degrees, int) : # for a single interger\n",
        "        return pd.cut([degrees], bins=ranges, labels=directions, right=False, ordered=False)[0]\n",
        "    else : # for a whole column\n",
        "        return pd.cut(degrees, bins=ranges, labels=directions, right=False, ordered=False)\n",
        "    \n",
        "# Decoder for WINDDIR:\n",
        "def decode_WINDDIR(direction):\n",
        "    decoded_degree = to_degrees[directions.index(direction)]\n",
        "    return decoded_degree"
      ],
      "metadata": {
        "id": "zzuhd5Mbu8Sj"
      },
      "execution_count": null,
      "outputs": []
    },
    {
      "cell_type": "code",
      "source": [
        "# how to use:\n",
        "encoded_directions = encode_WINDDIR(meteo_export41[\"LC_WINDDIR\"]) # can take both columns and single values!\n",
        "decoded_directions = encoded_directions.apply(decode_WINDDIR) # decode a column\n",
        "decoded_single_value = decode_WINDDIR('N') # decode for single values"
      ],
      "metadata": {
        "id": "YS3iec1VvQn3"
      },
      "execution_count": null,
      "outputs": []
    },
    {
      "cell_type": "code",
      "source": [
        "### RAININ ###\n",
        "intensities = [0.0, 0.1, 0.2, 0.5, 4, 9]\n",
        "labels = [\"No rain (0mm/hour)\", \"Very slight rain ( < 0.2mm/hour)\", \"Slight rain (0.2 - 0.5mm/hour)\", \"Moderate rain (0.5 - 4mm/hour)\", \"Heavy rain (4 - 8mm/hour)\", \"Very heavy rain ( > 8mm/hour)\"]\n",
        "    \n",
        "# Decoder for RAININ:\n",
        "def decode_RAININ(label):\n",
        "    intensity = intensities[labels.index(label)]\n",
        "    return intensity"
      ],
      "metadata": {
        "id": "p9rqBRv4wTKP"
      },
      "execution_count": null,
      "outputs": []
    },
    {
      "cell_type": "code",
      "source": [
        "# how to use:\n",
        "decoded_single_value = decode_RAININ(\"Very slight rain ( < 0.2mm/hour)\") # decode for single values\n",
        "decoded_single_value"
      ],
      "metadata": {
        "id": "YXKXIms478w7",
        "colab": {
          "base_uri": "https://localhost:8080/"
        },
        "outputId": "fa9e59bb-3171-489f-f3da-ebc40a4d9d82"
      },
      "execution_count": null,
      "outputs": [
        {
          "output_type": "execute_result",
          "data": {
            "text/plain": [
              "0.1"
            ]
          },
          "metadata": {},
          "execution_count": 46
        }
      ]
    },
    {
      "cell_type": "markdown",
      "source": [
        "### **3.12 Regression for Radiation (LC_RAD60) :**"
      ],
      "metadata": {
        "id": "Q4M83XOc-5y2"
      }
    },
    {
      "cell_type": "code",
      "source": [
        "average_meteo['month'] = average_meteo['DATEUTC'].dt.month\n",
        "average_meteo['day'] = average_meteo['DATEUTC'].dt.day\n",
        "average_meteo['hour'] = average_meteo['DATEUTC'].dt.hour\n",
        "\n",
        "Y = average_meteo[\"LC_RAD60\"].values.reshape(-1, 1)\n",
        "X = average_meteo[['month', 'LC_HUMIDITY', 'AV_TEMP','hour']]\n",
        "X['hour_sin'] = np.sin(2 * np.pi * X['hour'] / 24)\n",
        "X['hour_cos'] = np.cos(2 * np.pi * X['hour'] / 24)\n",
        "X = X.drop('hour', axis=1)\n",
        "X = sm.add_constant(X)\n",
        "est_rediation = sm.OLS(Y, X).fit()\n",
        "\n",
        "print(est_rediation.summary())\n"
      ],
      "metadata": {
        "id": "ZF87Q5iZFWKg",
        "colab": {
          "base_uri": "https://localhost:8080/"
        },
        "outputId": "b6b75a03-3691-4116-e2fc-dfc36f50dd62"
      },
      "execution_count": null,
      "outputs": [
        {
          "output_type": "stream",
          "name": "stdout",
          "text": [
            "                            OLS Regression Results                            \n",
            "==============================================================================\n",
            "Dep. Variable:                      y   R-squared:                       0.699\n",
            "Model:                            OLS   Adj. R-squared:                  0.699\n",
            "Method:                 Least Squares   F-statistic:                 2.443e+04\n",
            "Date:                Sun, 04 Jun 2023   Prob (F-statistic):               0.00\n",
            "Time:                        17:42:08   Log-Likelihood:            -2.9627e+05\n",
            "No. Observations:               52560   AIC:                         5.925e+05\n",
            "Df Residuals:                   52554   BIC:                         5.926e+05\n",
            "Df Model:                           5                                         \n",
            "Covariance Type:            nonrobust                                         \n",
            "===============================================================================\n",
            "                  coef    std err          t      P>|t|      [0.025      0.975]\n",
            "-------------------------------------------------------------------------------\n",
            "const         260.2809      2.331    111.673      0.000     255.713     264.849\n",
            "month          -0.4438      0.094     -4.713      0.000      -0.628      -0.259\n",
            "LC_HUMIDITY    -3.0222      0.026   -117.015      0.000      -3.073      -2.972\n",
            "AV_TEMP         3.4770      0.058     60.442      0.000       3.364       3.590\n",
            "hour_sin      -19.5174      0.465    -41.935      0.000     -20.430     -18.605\n",
            "hour_cos      -69.9803      0.436   -160.643      0.000     -70.834     -69.126\n",
            "==============================================================================\n",
            "Omnibus:                     5849.647   Durbin-Watson:                   0.044\n",
            "Prob(Omnibus):                  0.000   Jarque-Bera (JB):            10171.568\n",
            "Skew:                           0.766   Prob(JB):                         0.00\n",
            "Kurtosis:                       4.515   Cond. No.                         618.\n",
            "==============================================================================\n",
            "\n",
            "Notes:\n",
            "[1] Standard Errors assume that the covariance matrix of the errors is correctly specified.\n"
          ]
        },
        {
          "output_type": "stream",
          "name": "stderr",
          "text": [
            "<ipython-input-12-23df70a93b3b>:7: SettingWithCopyWarning: \n",
            "A value is trying to be set on a copy of a slice from a DataFrame.\n",
            "Try using .loc[row_indexer,col_indexer] = value instead\n",
            "\n",
            "See the caveats in the documentation: https://pandas.pydata.org/pandas-docs/stable/user_guide/indexing.html#returning-a-view-versus-a-copy\n",
            "  X['hour_sin'] = np.sin(2 * np.pi * X['hour'] / 24)\n",
            "<ipython-input-12-23df70a93b3b>:8: SettingWithCopyWarning: \n",
            "A value is trying to be set on a copy of a slice from a DataFrame.\n",
            "Try using .loc[row_indexer,col_indexer] = value instead\n",
            "\n",
            "See the caveats in the documentation: https://pandas.pydata.org/pandas-docs/stable/user_guide/indexing.html#returning-a-view-versus-a-copy\n",
            "  X['hour_cos'] = np.cos(2 * np.pi * X['hour'] / 24)\n"
          ]
        }
      ]
    },
    {
      "cell_type": "markdown",
      "source": [
        "### **3.13 Regression for Dew Temperature (LC_DWPTEMP) :**"
      ],
      "metadata": {
        "id": "NZmPr1uTfX_E"
      }
    },
    {
      "cell_type": "code",
      "source": [
        "Y = average_meteo[\"LC_DWPTEMP\"]\n",
        "X = average_meteo['AV_TEMP']\n",
        "X = sm.add_constant(X)\n",
        "est_dwtemp = sm.OLS(Y, X).fit()\n",
        "print(est_dwtemp.summary())"
      ],
      "metadata": {
        "id": "pmKrWIzRFlqZ",
        "colab": {
          "base_uri": "https://localhost:8080/"
        },
        "outputId": "e6e5709d-a399-4e04-9c91-1de1f2e70df1"
      },
      "execution_count": null,
      "outputs": [
        {
          "output_type": "stream",
          "name": "stdout",
          "text": [
            "                            OLS Regression Results                            \n",
            "==============================================================================\n",
            "Dep. Variable:             LC_DWPTEMP   R-squared:                       0.658\n",
            "Model:                            OLS   Adj. R-squared:                  0.658\n",
            "Method:                 Least Squares   F-statistic:                 1.013e+05\n",
            "Date:                Sun, 04 Jun 2023   Prob (F-statistic):               0.00\n",
            "Time:                        17:47:31   Log-Likelihood:            -1.3502e+05\n",
            "No. Observations:               52560   AIC:                         2.700e+05\n",
            "Df Residuals:                   52558   BIC:                         2.701e+05\n",
            "Df Model:                           1                                         \n",
            "Covariance Type:            nonrobust                                         \n",
            "==============================================================================\n",
            "                 coef    std err          t      P>|t|      [0.025      0.975]\n",
            "------------------------------------------------------------------------------\n",
            "const          0.4000      0.027     14.627      0.000       0.346       0.454\n",
            "AV_TEMP        0.5888      0.002    318.246      0.000       0.585       0.592\n",
            "==============================================================================\n",
            "Omnibus:                     5399.448   Durbin-Watson:                   0.003\n",
            "Prob(Omnibus):                  0.000   Jarque-Bera (JB):             7640.154\n",
            "Skew:                          -0.810   Prob(JB):                         0.00\n",
            "Kurtosis:                       3.928   Cond. No.                         29.4\n",
            "==============================================================================\n",
            "\n",
            "Notes:\n",
            "[1] Standard Errors assume that the covariance matrix of the errors is correctly specified.\n"
          ]
        }
      ]
    },
    {
      "cell_type": "markdown",
      "source": [
        "# **4. Statistical Analysis (for the report)**"
      ],
      "metadata": {
        "id": "OyA6TsuY1tCi"
      }
    },
    {
      "cell_type": "code",
      "source": [
        "#traffic descriptive statistic\n",
        "df = pd.DataFrame(traffic)\n",
        "print(df.describe())"
      ],
      "metadata": {
        "id": "ftmPflFQUKzd",
        "colab": {
          "base_uri": "https://localhost:8080/"
        },
        "outputId": "f368de33-9057-4ad9-9544-152478539287"
      },
      "execution_count": null,
      "outputs": [
        {
          "output_type": "stream",
          "name": "stdout",
          "text": [
            "             heavy          car         bike   pedestrian\n",
            "count  6700.000000  6700.000000  6700.000000  6700.000000\n",
            "mean      4.288612    24.591081    46.420345    33.518763\n",
            "std      11.510613    55.756232   110.389379    59.100942\n",
            "min       0.000000     0.000000     0.000000     0.000000\n",
            "25%       0.000000     0.000000     0.000000     0.000000\n",
            "50%       0.000000     0.000000     0.000000     0.000000\n",
            "75%       1.290323    15.639122    36.350975    55.543673\n",
            "max      92.665726   720.000000  1019.937041  1036.403191\n"
          ]
        }
      ]
    },
    {
      "cell_type": "code",
      "source": [
        "# descriptive statistics of Export 41\n",
        "print(export41)"
      ],
      "metadata": {
        "id": "TaPbD6WJZiyY",
        "colab": {
          "base_uri": "https://localhost:8080/"
        },
        "outputId": "438918fe-d0f6-43a1-9a37-d6446a47dcb9"
      },
      "execution_count": null,
      "outputs": [
        {
          "output_type": "stream",
          "name": "stdout",
          "text": [
            "                  description                   DATEUTC  certainty  \\\n",
            "0          MP08bis - Vrijthof 2022-04-20 12:30:00+02:00      100.0   \n",
            "1          MP08bis - Vrijthof 2022-04-24 21:10:00+02:00      100.0   \n",
            "2          MP08bis - Vrijthof 2022-04-24 21:10:00+02:00      100.0   \n",
            "3          MP08bis - Vrijthof 2022-05-09 13:20:00+02:00      100.0   \n",
            "4          MP08bis - Vrijthof 2022-05-10 03:40:00+02:00      100.0   \n",
            "...                       ...                       ...        ...   \n",
            "56438  MP 07: Naamsestraat 81 2022-12-31 12:20:00+01:00       99.0   \n",
            "56439  MP 07: Naamsestraat 81 2022-12-31 12:30:00+01:00      100.0   \n",
            "56440  MP 07: Naamsestraat 81 2022-12-31 15:20:00+01:00       87.0   \n",
            "56441  MP 07: Naamsestraat 81 2022-12-31 17:10:00+01:00      100.0   \n",
            "56442  MP 07: Naamsestraat 81 2022-12-31 20:00:00+01:00       77.0   \n",
            "\n",
            "                          noise_event  \n",
            "0      Transport road - Passenger car  \n",
            "1              Nature elements - Wind  \n",
            "2              Nature elements - Wind  \n",
            "3              Transport road - Siren  \n",
            "4              Transport road - Siren  \n",
            "...                               ...  \n",
            "56438  Transport road - Passenger car  \n",
            "56439  Transport road - Passenger car  \n",
            "56440  Transport road - Passenger car  \n",
            "56441          Human voice - Shouting  \n",
            "56442  Transport road - Passenger car  \n",
            "\n",
            "[56443 rows x 4 columns]\n"
          ]
        }
      ]
    },
    {
      "cell_type": "code",
      "source": [
        "#descriptive clean meteo\n",
        "print(average_meteo.describe())"
      ],
      "metadata": {
        "id": "GP-DmIAhUvmz",
        "colab": {
          "base_uri": "https://localhost:8080/"
        },
        "outputId": "55b2fa16-2ea7-4542-a344-461f6b82aa8e"
      },
      "execution_count": null,
      "outputs": [
        {
          "output_type": "stream",
          "name": "stdout",
          "text": [
            "        LC_HUMIDITY    LC_DWPTEMP        LC_RAD     LC_RAININ  LC_DAILYRAIN  \\\n",
            "count  52560.000000  52560.000000  52560.000000  52560.000000  52560.000000   \n",
            "mean      75.145535      7.918712     74.646959      0.000098      0.001079   \n",
            "std       17.934663      5.402531    125.121398      0.000812      0.003451   \n",
            "min       15.204082     -8.540417      0.000000      0.000000      0.000000   \n",
            "25%       62.872340      4.004607      0.081633      0.000000      0.000000   \n",
            "50%       80.020204      8.512042      0.255319      0.000000      0.000000   \n",
            "75%       90.159091     12.037296     97.047207      0.000000      0.000061   \n",
            "max       98.276596     22.140833    647.369565      0.063064      0.044511   \n",
            "\n",
            "           LC_RAD60       AV_TEMP    LC_WINDDIR  LC_WINDSPEED         month  \\\n",
            "count  52560.000000  52560.000000  52560.000000  52560.000000  52560.000000   \n",
            "mean      74.683993     12.769799     -2.414636      0.205908      6.526826   \n",
            "std      123.780098      7.445087     25.853657      0.281352      3.447878   \n",
            "min        0.000000     -7.531445   -108.375000      0.000000      1.000000   \n",
            "25%        0.081633      7.399127    -19.250000      0.010000      4.000000   \n",
            "50%        1.020408     12.382372      0.000000      0.101250      7.000000   \n",
            "75%       98.346939     17.874604     12.000000      0.290000     10.000000   \n",
            "max      561.021277     39.802989    113.857143      3.203750     12.000000   \n",
            "\n",
            "                day          hour  \n",
            "count  52560.000000  52560.000000  \n",
            "mean      15.720890     11.500000  \n",
            "std        8.796828      6.922252  \n",
            "min        1.000000      0.000000  \n",
            "25%        8.000000      5.750000  \n",
            "50%       16.000000     11.500000  \n",
            "75%       23.000000     17.250000  \n",
            "max       31.000000     23.000000  \n"
          ]
        }
      ]
    },
    {
      "cell_type": "code",
      "source": [
        "## descriptive of the merged dataset\n",
        "print(merged)"
      ],
      "metadata": {
        "id": "SzaMx4e8U12k",
        "colab": {
          "base_uri": "https://localhost:8080/"
        },
        "outputId": "144c195d-2ee1-47e1-d364-119b16f856ef"
      },
      "execution_count": null,
      "outputs": [
        {
          "output_type": "stream",
          "name": "stdout",
          "text": [
            "                       DATEUTC  LC_HUMIDITY  LC_DWPTEMP      LC_RAD  \\\n",
            "0    2022-01-07 17:00:00+01:00    92.250000    1.642917    0.125000   \n",
            "1    2022-01-09 22:00:00+01:00    93.954545    0.514545    0.090909   \n",
            "2    2022-01-10 11:00:00+01:00    97.723404   -0.529574   43.702128   \n",
            "3    2022-01-11 09:00:00+01:00    92.553191   -0.800000    3.531915   \n",
            "4    2022-01-12 07:00:00+01:00    90.063830    0.456809    0.085106   \n",
            "...                        ...          ...         ...         ...   \n",
            "7118 2022-10-07 15:00:00+02:00    54.346939    9.376327  283.489796   \n",
            "7119 2022-10-07 15:00:00+02:00    54.346939    9.376327  283.489796   \n",
            "7120 2022-10-07 15:00:00+02:00    54.346939    9.376327  283.489796   \n",
            "7121 2022-10-07 15:00:00+02:00    54.346939    9.376327  283.489796   \n",
            "7122 2022-10-07 15:00:00+02:00    54.346939    9.376327  283.489796   \n",
            "\n",
            "      LC_RAININ  LC_DAILYRAIN    LC_RAD60    AV_TEMP  LC_WINDDIR  \\\n",
            "0      0.000021      0.004667    8.645833   2.753157  -10.571429   \n",
            "1      0.000000      0.005909    0.086957   1.369592   -9.428571   \n",
            "2      0.000000      0.000021   29.638298  -0.248377  -40.142857   \n",
            "3      0.000000      0.000000    0.085106   0.271255   35.285714   \n",
            "4      0.000043      0.000000    0.085106   1.907448  -31.285714   \n",
            "...         ...           ...         ...        ...         ...   \n",
            "7118   0.000000      0.000000  294.836735  18.682059   45.285714   \n",
            "7119   0.000000      0.000000  294.836735  18.682059   45.285714   \n",
            "7120   0.000000      0.000000  294.836735  18.682059   45.285714   \n",
            "7121   0.000000      0.000000  294.836735  18.682059   45.285714   \n",
            "7122   0.000000      0.000000  294.836735  18.682059   45.285714   \n",
            "\n",
            "      LC_WINDSPEED  ... sin_dayOfWeek  cos_month     sin_month  \\\n",
            "0         0.081429  ... -8.660254e-01        1.0  0.000000e+00   \n",
            "1         0.000000  ... -2.449294e-16        1.0  0.000000e+00   \n",
            "2         0.055714  ...  0.000000e+00        1.0  0.000000e+00   \n",
            "3         0.054286  ...  8.660254e-01        1.0  0.000000e+00   \n",
            "4         0.017143  ...  8.660254e-01        1.0  0.000000e+00   \n",
            "...            ...  ...           ...        ...           ...   \n",
            "7118      0.227143  ... -8.660254e-01        1.0 -2.449294e-16   \n",
            "7119      0.227143  ... -8.660254e-01        1.0 -2.449294e-16   \n",
            "7120      0.227143  ... -8.660254e-01        1.0 -2.449294e-16   \n",
            "7121      0.227143  ... -8.660254e-01        1.0 -2.449294e-16   \n",
            "7122      0.227143  ... -8.660254e-01        1.0 -2.449294e-16   \n",
            "\n",
            "      location_MP 01: Naamsestraat 35  Maxim  \\\n",
            "0                                          0   \n",
            "1                                          0   \n",
            "2                                          0   \n",
            "3                                          0   \n",
            "4                                          0   \n",
            "...                                      ...   \n",
            "7118                                       1   \n",
            "7119                                       0   \n",
            "7120                                       0   \n",
            "7121                                       0   \n",
            "7122                                       0   \n",
            "\n",
            "      location_MP 02: Naamsestraat 57 Xior  \\\n",
            "0                                        0   \n",
            "1                                        0   \n",
            "2                                        0   \n",
            "3                                        0   \n",
            "4                                        0   \n",
            "...                                    ...   \n",
            "7118                                     0   \n",
            "7119                                     1   \n",
            "7120                                     0   \n",
            "7121                                     0   \n",
            "7122                                     0   \n",
            "\n",
            "      location_MP 03: Naamsestraat 62 Taste  \\\n",
            "0                                         1   \n",
            "1                                         1   \n",
            "2                                         1   \n",
            "3                                         1   \n",
            "4                                         1   \n",
            "...                                     ...   \n",
            "7118                                      0   \n",
            "7119                                      0   \n",
            "7120                                      1   \n",
            "7121                                      0   \n",
            "7122                                      0   \n",
            "\n",
            "      location_MP 05: Calvariekapel KU Leuven  \\\n",
            "0                                           0   \n",
            "1                                           0   \n",
            "2                                           0   \n",
            "3                                           0   \n",
            "4                                           0   \n",
            "...                                       ...   \n",
            "7118                                        0   \n",
            "7119                                        0   \n",
            "7120                                        0   \n",
            "7121                                        1   \n",
            "7122                                        0   \n",
            "\n",
            "      location_MP 06: Parkstraat 2 La Filosovia  \\\n",
            "0                                             0   \n",
            "1                                             0   \n",
            "2                                             0   \n",
            "3                                             0   \n",
            "4                                             0   \n",
            "...                                         ...   \n",
            "7118                                          0   \n",
            "7119                                          0   \n",
            "7120                                          0   \n",
            "7121                                          0   \n",
            "7122                                          1   \n",
            "\n",
            "      location_MP 07: Naamsestraat 81  location_MP08bis - Vrijthof  \n",
            "0                                   0                            0  \n",
            "1                                   0                            0  \n",
            "2                                   0                            0  \n",
            "3                                   0                            0  \n",
            "4                                   0                            0  \n",
            "...                               ...                          ...  \n",
            "7118                                0                            0  \n",
            "7119                                0                            0  \n",
            "7120                                0                            0  \n",
            "7121                                0                            0  \n",
            "7122                                0                            0  \n",
            "\n",
            "[7123 rows x 36 columns]\n"
          ]
        }
      ]
    },
    {
      "cell_type": "code",
      "source": [
        "#see what noise_encoded variable (the DV) includes \n",
        "print(merged['noise_event'])"
      ],
      "metadata": {
        "id": "icklgMinU4A8",
        "colab": {
          "base_uri": "https://localhost:8080/"
        },
        "outputId": "0386b844-83a1-47f9-9cfe-0430cbb53464"
      },
      "execution_count": null,
      "outputs": [
        {
          "output_type": "stream",
          "name": "stdout",
          "text": [
            "0       Transport road - Passenger car\n",
            "1       Transport road - Passenger car\n",
            "2               Human voice - Shouting\n",
            "3       Transport road - Passenger car\n",
            "4               Human voice - Shouting\n",
            "                     ...              \n",
            "7118            Human voice - Shouting\n",
            "7119            Transport road - Siren\n",
            "7120            Transport road - Siren\n",
            "7121            Transport road - Siren\n",
            "7122            Transport road - Siren\n",
            "Name: noise_event, Length: 7123, dtype: object\n"
          ]
        }
      ]
    },
    {
      "cell_type": "code",
      "source": [
        "#encode DV(noise event into 6 NUMERIC classes)\n",
        "noise_encoded = LabelEncoder()\n",
        "merged['NoiseEventEncoded'] = noise_encoded.fit_transform(merged['noise_event'])\n",
        "print(merged.NoiseEventEncoded)"
      ],
      "metadata": {
        "id": "OYbh1w5jVH1J",
        "colab": {
          "base_uri": "https://localhost:8080/"
        },
        "outputId": "4714e5af-8a92-4a00-f4d3-b31dc7a07e2b"
      },
      "execution_count": null,
      "outputs": [
        {
          "output_type": "stream",
          "name": "stdout",
          "text": [
            "0       4\n",
            "1       4\n",
            "2       0\n",
            "3       4\n",
            "4       0\n",
            "       ..\n",
            "7118    0\n",
            "7119    5\n",
            "7120    5\n",
            "7121    5\n",
            "7122    5\n",
            "Name: NoiseEventEncoded, Length: 7123, dtype: int64\n"
          ]
        }
      ]
    },
    {
      "cell_type": "code",
      "source": [
        "# Count the values in the 'noise_event' column to compare them to NoiseEventEncoded\n",
        "noise_event_counts = merged['noise_event'].value_counts()\n",
        "print(noise_event_counts)"
      ],
      "metadata": {
        "id": "V8lPYvg_VrlB",
        "colab": {
          "base_uri": "https://localhost:8080/"
        },
        "outputId": "7c5de6b8-c202-43db-d50d-b90bdf202d8c"
      },
      "execution_count": null,
      "outputs": [
        {
          "output_type": "stream",
          "name": "stdout",
          "text": [
            "Transport road - Passenger car    5902\n",
            "Human voice - Shouting             772\n",
            "Transport road - Siren             274\n",
            "Human voice - Singing              142\n",
            "Music non-amplified                 19\n",
            "Nature elements - Wind              14\n",
            "Name: noise_event, dtype: int64\n"
          ]
        }
      ]
    },
    {
      "cell_type": "code",
      "source": [
        "# Count the values in the 'NoiseEventEncoded' column to compare them to noise_event\n",
        "NoiseEventEncoded_counts = merged['NoiseEventEncoded'].value_counts()\n",
        "print(NoiseEventEncoded_counts)"
      ],
      "metadata": {
        "id": "C34uBoDrV8dN",
        "colab": {
          "base_uri": "https://localhost:8080/"
        },
        "outputId": "66e04e3a-af3e-4b2c-8c06-bf4a9efae72d"
      },
      "execution_count": null,
      "outputs": [
        {
          "output_type": "stream",
          "name": "stdout",
          "text": [
            "4    5902\n",
            "0     772\n",
            "5     274\n",
            "1     142\n",
            "2      19\n",
            "3      14\n",
            "Name: NoiseEventEncoded, dtype: int64\n"
          ]
        }
      ]
    },
    {
      "cell_type": "code",
      "source": [
        "# create a dummy using the DV\n",
        "# binary coding/ dummy traffic\n",
        "df = pd.DataFrame(merged)\n",
        "\n",
        "classes_zero = ['Human voice - Shouting', 'Human voice - Singing', 'Nature elements - Wind', 'Music non-amplified']\n",
        "df['Dummytraffic'] = np.where(df['noise_event'].isin(classes_zero), 0, 1)\n",
        "comparison = pd.concat([df['noise_event'], df['Dummytraffic']], axis=1)\n",
        "\n",
        "print(comparison)"
      ],
      "metadata": {
        "id": "R_6JpM6wWJr6",
        "colab": {
          "base_uri": "https://localhost:8080/"
        },
        "outputId": "c82d6ebe-bb12-454d-a040-809db19b52ca"
      },
      "execution_count": null,
      "outputs": [
        {
          "output_type": "stream",
          "name": "stdout",
          "text": [
            "                         noise_event  Dummytraffic\n",
            "0     Transport road - Passenger car             1\n",
            "1     Transport road - Passenger car             1\n",
            "2             Human voice - Shouting             0\n",
            "3     Transport road - Passenger car             1\n",
            "4             Human voice - Shouting             0\n",
            "...                              ...           ...\n",
            "7118          Human voice - Shouting             0\n",
            "7119          Transport road - Siren             1\n",
            "7120          Transport road - Siren             1\n",
            "7121          Transport road - Siren             1\n",
            "7122          Transport road - Siren             1\n",
            "\n",
            "[7123 rows x 2 columns]\n"
          ]
        }
      ]
    },
    {
      "cell_type": "code",
      "source": [
        "##logistic regression - traffic\n",
        "y = merged['Dummytraffic']\n",
        "X = merged[['LC_WINDSPEED', 'LC_HUMIDITY', 'AV_TEMP', 'LC_RAININ', 'academic_calender', 'weekend']]\n",
        "\n",
        "X = sm.add_constant(X)\n",
        "\n",
        "model = sm.Logit(y, X)\n",
        "result = model.fit()\n",
        "\n",
        "print(result.summary())"
      ],
      "metadata": {
        "id": "J_GGwbs5WdiC",
        "colab": {
          "base_uri": "https://localhost:8080/"
        },
        "outputId": "08f16fb0-cc0e-4e53-b5f7-1adc343ae1f2"
      },
      "execution_count": null,
      "outputs": [
        {
          "output_type": "stream",
          "name": "stdout",
          "text": [
            "Optimization terminated successfully.\n",
            "         Current function value: 0.369430\n",
            "         Iterations 7\n",
            "                           Logit Regression Results                           \n",
            "==============================================================================\n",
            "Dep. Variable:           Dummytraffic   No. Observations:                 7123\n",
            "Model:                          Logit   Df Residuals:                     7116\n",
            "Method:                           MLE   Df Model:                            6\n",
            "Date:                Sun, 04 Jun 2023   Pseudo R-squ.:                 0.05747\n",
            "Time:                        12:31:19   Log-Likelihood:                -2631.4\n",
            "converged:                       True   LL-Null:                       -2791.9\n",
            "Covariance Type:            nonrobust   LLR p-value:                 2.702e-66\n",
            "=====================================================================================\n",
            "                        coef    std err          z      P>|z|      [0.025      0.975]\n",
            "-------------------------------------------------------------------------------------\n",
            "const                -0.1355      0.273     -0.496      0.620      -0.671       0.400\n",
            "LC_WINDSPEED          0.2739      0.149      1.836      0.066      -0.019       0.566\n",
            "LC_HUMIDITY           0.0073      0.003      2.546      0.011       0.002       0.013\n",
            "AV_TEMP               0.0963      0.008     12.095      0.000       0.081       0.112\n",
            "LC_RAININ           -90.2938     40.529     -2.228      0.026    -169.729     -10.858\n",
            "academic_calender     0.0982      0.091      1.082      0.279      -0.080       0.276\n",
            "weekend               0.0254      0.106      0.239      0.811      -0.183       0.234\n",
            "=====================================================================================\n"
          ]
        }
      ]
    },
    {
      "cell_type": "code",
      "source": [
        "# # create a second dummy using the DV\n",
        "# binary coding/ dummy human-made voice\n",
        "df = pd.DataFrame(merged)\n",
        "classes_zero = ['Transport road - Passenger car', 'Transport - Siren', 'Nature elements - Wind']\n",
        "df['Dummyhuman'] = np.where(df['noise_event'].isin(classes_zero), 0, 1)\n",
        "comparison = pd.concat([df['noise_event'], df['Dummyhuman']], axis=1)\n",
        "\n",
        "print(comparison)"
      ],
      "metadata": {
        "id": "QYv0qYa2WyHM",
        "colab": {
          "base_uri": "https://localhost:8080/"
        },
        "outputId": "dbe0ddb2-9f84-4f0d-c25c-7643855f17dd"
      },
      "execution_count": null,
      "outputs": [
        {
          "output_type": "stream",
          "name": "stdout",
          "text": [
            "                         noise_event  Dummyhuman\n",
            "0     Transport road - Passenger car           0\n",
            "1     Transport road - Passenger car           0\n",
            "2             Human voice - Shouting           1\n",
            "3     Transport road - Passenger car           0\n",
            "4             Human voice - Shouting           1\n",
            "...                              ...         ...\n",
            "7118          Human voice - Shouting           1\n",
            "7119          Transport road - Siren           1\n",
            "7120          Transport road - Siren           1\n",
            "7121          Transport road - Siren           1\n",
            "7122          Transport road - Siren           1\n",
            "\n",
            "[7123 rows x 2 columns]\n"
          ]
        }
      ]
    },
    {
      "cell_type": "code",
      "source": [
        "##logistic regression - human noise\n",
        "y = merged['Dummyhuman']\n",
        "X = merged[['LC_WINDSPEED', 'LC_HUMIDITY', 'AV_TEMP', 'LC_RAININ', 'academic_calender', 'weekend']]\n",
        "\n",
        "X = sm.add_constant(X)\n",
        "\n",
        "model = sm.Logit(y, X)\n",
        "result = model.fit()\n",
        "\n",
        "print(result.summary())"
      ],
      "metadata": {
        "id": "J04C_BMaXJZn",
        "colab": {
          "base_uri": "https://localhost:8080/"
        },
        "outputId": "cbed9bad-09e9-4174-9a44-e2b8acc491f7"
      },
      "execution_count": null,
      "outputs": [
        {
          "output_type": "stream",
          "name": "stdout",
          "text": [
            "Optimization terminated successfully.\n",
            "         Current function value: 0.432700\n",
            "         Iterations 7\n",
            "                           Logit Regression Results                           \n",
            "==============================================================================\n",
            "Dep. Variable:             Dummyhuman   No. Observations:                 7123\n",
            "Model:                          Logit   Df Residuals:                     7116\n",
            "Method:                           MLE   Df Model:                            6\n",
            "Date:                Sun, 04 Jun 2023   Pseudo R-squ.:                 0.04904\n",
            "Time:                        12:31:24   Log-Likelihood:                -3082.1\n",
            "converged:                       True   LL-Null:                       -3241.1\n",
            "Covariance Type:            nonrobust   LLR p-value:                 1.193e-65\n",
            "=====================================================================================\n",
            "                        coef    std err          z      P>|z|      [0.025      0.975]\n",
            "-------------------------------------------------------------------------------------\n",
            "const                 0.5757      0.248      2.324      0.020       0.090       1.061\n",
            "LC_WINDSPEED         -0.0546      0.130     -0.418      0.676      -0.310       0.201\n",
            "LC_HUMIDITY          -0.0112      0.003     -4.345      0.000      -0.016      -0.006\n",
            "AV_TEMP              -0.0904      0.007    -12.548      0.000      -0.105      -0.076\n",
            "LC_RAININ            75.5100     39.182      1.927      0.054      -1.285     152.305\n",
            "academic_calender    -0.1051      0.082     -1.284      0.199      -0.266       0.055\n",
            "weekend               0.0636      0.094      0.677      0.498      -0.120       0.248\n",
            "=====================================================================================\n"
          ]
        }
      ]
    },
    {
      "cell_type": "code",
      "source": [
        "# round the traffic dataset value into interger\n",
        "\n",
        "\n",
        "variable_to_recode = ['heavy', 'car', 'bike', 'pedestrian']\n",
        "merged[variable_to_recode] = merged[variable_to_recode].apply(lambda x: x.astype(int))\n",
        "\n",
        "print(merged)"
      ],
      "metadata": {
        "id": "pRge-EzbYZVE",
        "colab": {
          "base_uri": "https://localhost:8080/"
        },
        "outputId": "80174133-2869-477d-9509-4a1a49de646a"
      },
      "execution_count": null,
      "outputs": [
        {
          "output_type": "stream",
          "name": "stdout",
          "text": [
            "                       DATEUTC  LC_HUMIDITY  LC_DWPTEMP      LC_RAD  \\\n",
            "0    2022-01-07 17:00:00+01:00    92.250000    1.642917    0.125000   \n",
            "1    2022-01-09 22:00:00+01:00    93.954545    0.514545    0.090909   \n",
            "2    2022-01-10 11:00:00+01:00    97.723404   -0.529574   43.702128   \n",
            "3    2022-01-11 09:00:00+01:00    92.553191   -0.800000    3.531915   \n",
            "4    2022-01-12 07:00:00+01:00    90.063830    0.456809    0.085106   \n",
            "...                        ...          ...         ...         ...   \n",
            "7118 2022-10-07 15:00:00+02:00    54.346939    9.376327  283.489796   \n",
            "7119 2022-10-07 15:00:00+02:00    54.346939    9.376327  283.489796   \n",
            "7120 2022-10-07 15:00:00+02:00    54.346939    9.376327  283.489796   \n",
            "7121 2022-10-07 15:00:00+02:00    54.346939    9.376327  283.489796   \n",
            "7122 2022-10-07 15:00:00+02:00    54.346939    9.376327  283.489796   \n",
            "\n",
            "      LC_RAININ  LC_DAILYRAIN    LC_RAD60    AV_TEMP  LC_WINDDIR  \\\n",
            "0      0.000021      0.004667    8.645833   2.753157  -10.571429   \n",
            "1      0.000000      0.005909    0.086957   1.369592   -9.428571   \n",
            "2      0.000000      0.000021   29.638298  -0.248377  -40.142857   \n",
            "3      0.000000      0.000000    0.085106   0.271255   35.285714   \n",
            "4      0.000043      0.000000    0.085106   1.907448  -31.285714   \n",
            "...         ...           ...         ...        ...         ...   \n",
            "7118   0.000000      0.000000  294.836735  18.682059   45.285714   \n",
            "7119   0.000000      0.000000  294.836735  18.682059   45.285714   \n",
            "7120   0.000000      0.000000  294.836735  18.682059   45.285714   \n",
            "7121   0.000000      0.000000  294.836735  18.682059   45.285714   \n",
            "7122   0.000000      0.000000  294.836735  18.682059   45.285714   \n",
            "\n",
            "      LC_WINDSPEED  ... location_MP 01: Naamsestraat 35  Maxim  \\\n",
            "0         0.081429  ...                                      0   \n",
            "1         0.000000  ...                                      0   \n",
            "2         0.055714  ...                                      0   \n",
            "3         0.054286  ...                                      0   \n",
            "4         0.017143  ...                                      0   \n",
            "...            ...  ...                                    ...   \n",
            "7118      0.227143  ...                                      1   \n",
            "7119      0.227143  ...                                      0   \n",
            "7120      0.227143  ...                                      0   \n",
            "7121      0.227143  ...                                      0   \n",
            "7122      0.227143  ...                                      0   \n",
            "\n",
            "      location_MP 02: Naamsestraat 57 Xior  \\\n",
            "0                                        0   \n",
            "1                                        0   \n",
            "2                                        0   \n",
            "3                                        0   \n",
            "4                                        0   \n",
            "...                                    ...   \n",
            "7118                                     0   \n",
            "7119                                     1   \n",
            "7120                                     0   \n",
            "7121                                     0   \n",
            "7122                                     0   \n",
            "\n",
            "     location_MP 03: Naamsestraat 62 Taste  \\\n",
            "0                                        1   \n",
            "1                                        1   \n",
            "2                                        1   \n",
            "3                                        1   \n",
            "4                                        1   \n",
            "...                                    ...   \n",
            "7118                                     0   \n",
            "7119                                     0   \n",
            "7120                                     1   \n",
            "7121                                     0   \n",
            "7122                                     0   \n",
            "\n",
            "      location_MP 05: Calvariekapel KU Leuven  \\\n",
            "0                                           0   \n",
            "1                                           0   \n",
            "2                                           0   \n",
            "3                                           0   \n",
            "4                                           0   \n",
            "...                                       ...   \n",
            "7118                                        0   \n",
            "7119                                        0   \n",
            "7120                                        0   \n",
            "7121                                        1   \n",
            "7122                                        0   \n",
            "\n",
            "      location_MP 06: Parkstraat 2 La Filosovia  \\\n",
            "0                                             0   \n",
            "1                                             0   \n",
            "2                                             0   \n",
            "3                                             0   \n",
            "4                                             0   \n",
            "...                                         ...   \n",
            "7118                                          0   \n",
            "7119                                          0   \n",
            "7120                                          0   \n",
            "7121                                          0   \n",
            "7122                                          1   \n",
            "\n",
            "      location_MP 07: Naamsestraat 81  location_MP08bis - Vrijthof  \\\n",
            "0                                   0                            0   \n",
            "1                                   0                            0   \n",
            "2                                   0                            0   \n",
            "3                                   0                            0   \n",
            "4                                   0                            0   \n",
            "...                               ...                          ...   \n",
            "7118                                0                            0   \n",
            "7119                                0                            0   \n",
            "7120                                0                            0   \n",
            "7121                                0                            0   \n",
            "7122                                0                            0   \n",
            "\n",
            "      NoiseEventEncoded  Dummytraffic  Dummyhuman  \n",
            "0                     4             1           0  \n",
            "1                     4             1           0  \n",
            "2                     0             0           1  \n",
            "3                     4             1           0  \n",
            "4                     0             0           1  \n",
            "...                 ...           ...         ...  \n",
            "7118                  0             0           1  \n",
            "7119                  5             1           1  \n",
            "7120                  5             1           1  \n",
            "7121                  5             1           1  \n",
            "7122                  5             1           1  \n",
            "\n",
            "[7123 rows x 39 columns]\n"
          ]
        }
      ]
    },
    {
      "cell_type": "code",
      "source": [
        "#logistic trafficnoise & traffic\n",
        "y = merged['Dummytraffic']\n",
        "X = merged[['heavy', 'car', 'pedestrian', 'bike']] \n",
        "\n",
        "X = sm.add_constant(X)\n",
        "\n",
        "model = sm.Logit(y, X)\n",
        "result = model.fit()\n",
        "\n",
        "print(result.summary())"
      ],
      "metadata": {
        "id": "GpAeeLv6YhPt",
        "colab": {
          "base_uri": "https://localhost:8080/"
        },
        "outputId": "329f9f7c-2bc5-4b1d-f4f5-4570d9a9d1ba"
      },
      "execution_count": null,
      "outputs": [
        {
          "output_type": "stream",
          "name": "stdout",
          "text": [
            "Optimization terminated successfully.\n",
            "         Current function value: 0.389978\n",
            "         Iterations 6\n",
            "                           Logit Regression Results                           \n",
            "==============================================================================\n",
            "Dep. Variable:           Dummytraffic   No. Observations:                 7123\n",
            "Model:                          Logit   Df Residuals:                     7118\n",
            "Method:                           MLE   Df Model:                            4\n",
            "Date:                Sun, 04 Jun 2023   Pseudo R-squ.:                0.005046\n",
            "Time:                        12:31:30   Log-Likelihood:                -2777.8\n",
            "converged:                       True   LL-Null:                       -2791.9\n",
            "Covariance Type:            nonrobust   LLR p-value:                 1.150e-05\n",
            "==============================================================================\n",
            "                 coef    std err          z      P>|z|      [0.025      0.975]\n",
            "------------------------------------------------------------------------------\n",
            "const          1.7702      0.041     42.997      0.000       1.690       1.851\n",
            "heavy         -0.0012      0.005     -0.242      0.809      -0.011       0.008\n",
            "car            0.0019      0.001      1.938      0.053   -2.21e-05       0.004\n",
            "pedestrian     0.0044      0.001      4.357      0.000       0.002       0.006\n",
            "bike          -0.0022      0.001     -3.691      0.000      -0.003      -0.001\n",
            "==============================================================================\n"
          ]
        }
      ]
    },
    {
      "cell_type": "code",
      "source": [
        "#crosstab noise event & weekend\n",
        "\n",
        "cross_tab = pd.crosstab(merged['weekend'], merged['noise_event'])\n",
        "row_percentages = cross_tab.div(cross_tab.sum(axis=1), axis=0) * 100\n",
        "column_percentages = cross_tab.div(cross_tab.sum(axis=0), axis=1) * 100\n",
        "\n",
        "# Print the cross-tabulation table with row and column percentages\n",
        "print(\"Cross-tabulation table:\")\n",
        "print(cross_tab)\n",
        "print(\"\\nRow percentages:\")\n",
        "print(row_percentages)\n",
        "print(\"\\nColumn percentages:\")\n",
        "print(column_percentages)"
      ],
      "metadata": {
        "id": "zzTdE21aYMeG",
        "colab": {
          "base_uri": "https://localhost:8080/"
        },
        "outputId": "c45c1885-a2a9-4c9d-a1e7-260f351b9e8c"
      },
      "execution_count": null,
      "outputs": [
        {
          "output_type": "stream",
          "name": "stdout",
          "text": [
            "Cross-tabulation table:\n",
            "noise_event  Human voice - Shouting  Human voice - Singing  \\\n",
            "weekend                                                      \n",
            "0                               664                    132   \n",
            "1                               108                     10   \n",
            "\n",
            "noise_event  Music non-amplified  Nature elements - Wind  \\\n",
            "weekend                                                    \n",
            "0                             16                      12   \n",
            "1                              3                       2   \n",
            "\n",
            "noise_event  Transport road - Passenger car  Transport road - Siren  \n",
            "weekend                                                              \n",
            "0                                      5068                     227  \n",
            "1                                       834                      47  \n",
            "\n",
            "Row percentages:\n",
            "noise_event  Human voice - Shouting  Human voice - Singing  \\\n",
            "weekend                                                      \n",
            "0                         10.851446               2.157215   \n",
            "1                         10.756972               0.996016   \n",
            "\n",
            "noise_event  Music non-amplified  Nature elements - Wind  \\\n",
            "weekend                                                    \n",
            "0                       0.261481                0.196110   \n",
            "1                       0.298805                0.199203   \n",
            "\n",
            "noise_event  Transport road - Passenger car  Transport road - Siren  \n",
            "weekend                                                              \n",
            "0                                 82.823991                3.709756  \n",
            "1                                 83.067729                4.681275  \n",
            "\n",
            "Column percentages:\n",
            "noise_event  Human voice - Shouting  Human voice - Singing  \\\n",
            "weekend                                                      \n",
            "0                         86.010363              92.957746   \n",
            "1                         13.989637               7.042254   \n",
            "\n",
            "noise_event  Music non-amplified  Nature elements - Wind  \\\n",
            "weekend                                                    \n",
            "0                      84.210526               85.714286   \n",
            "1                      15.789474               14.285714   \n",
            "\n",
            "noise_event  Transport road - Passenger car  Transport road - Siren  \n",
            "weekend                                                              \n",
            "0                                 85.869197               82.846715  \n",
            "1                                 14.130803               17.153285  \n"
          ]
        }
      ]
    }
  ]
}